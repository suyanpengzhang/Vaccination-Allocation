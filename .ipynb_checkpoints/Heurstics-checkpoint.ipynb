{
 "cells": [
  {
   "cell_type": "code",
   "execution_count": 1,
   "id": "39b63ccb",
   "metadata": {},
   "outputs": [
    {
     "name": "stdout",
     "output_type": "stream",
     "text": [
      "Intel MKL WARNING: Support of Intel(R) Streaming SIMD Extensions 4.2 (Intel(R) SSE4.2) enabled only processors has been deprecated. Intel oneAPI Math Kernel Library 2025.0 will require Intel(R) Advanced Vector Extensions (Intel(R) AVX) instructions.\n",
      "Intel MKL WARNING: Support of Intel(R) Streaming SIMD Extensions 4.2 (Intel(R) SSE4.2) enabled only processors has been deprecated. Intel oneAPI Math Kernel Library 2025.0 will require Intel(R) Advanced Vector Extensions (Intel(R) AVX) instructions.\n"
     ]
    }
   ],
   "source": [
    "import numpy as np\n",
    "import networkx as nx\n",
    "import pandas as pd"
   ]
  },
  {
   "cell_type": "code",
   "execution_count": 2,
   "id": "81ac7e04",
   "metadata": {},
   "outputs": [
    {
     "name": "stderr",
     "output_type": "stream",
     "text": [
      "/var/folders/b3/kkdtnh4d4gjgrk45d_yrf4100000gn/T/ipykernel_95966/460112638.py:7: RuntimeWarning: divide by zero encountered in divide\n",
      "  value = 1/value\n"
     ]
    }
   ],
   "source": [
    "od_flow = pd.read_csv('mean_df_20210224_20210424.csv')\n",
    "#value is the od matrix\n",
    "value = od_flow.values[0:-1,1:-1]\n",
    "value =np.array([np.array([float(i) for i in j ])for j in value])\n",
    "actualcommunter_scaler = 4753898/np.sum(value)\n",
    "value = value*actualcommunter_scaler\n",
    "value = 1/value"
   ]
  },
  {
   "cell_type": "code",
   "execution_count": 3,
   "id": "d1990f6d",
   "metadata": {},
   "outputs": [],
   "source": [
    "G = nx.from_numpy_matrix(value)"
   ]
  },
  {
   "cell_type": "code",
   "execution_count": 4,
   "id": "8274bc1b",
   "metadata": {},
   "outputs": [],
   "source": [
    "v = nx.betweenness_centrality(G, weight= 'weight')"
   ]
  },
  {
   "cell_type": "code",
   "execution_count": 7,
   "id": "cf06a224",
   "metadata": {},
   "outputs": [],
   "source": [
    "weights_bc = np.array(list(v.values()))"
   ]
  },
  {
   "cell_type": "code",
   "execution_count": null,
   "id": "785eaaa6",
   "metadata": {},
   "outputs": [],
   "source": []
  }
 ],
 "metadata": {
  "kernelspec": {
   "display_name": "Python 3 (ipykernel)",
   "language": "python",
   "name": "python3"
  },
  "language_info": {
   "codemirror_mode": {
    "name": "ipython",
    "version": 3
   },
   "file_extension": ".py",
   "mimetype": "text/x-python",
   "name": "python",
   "nbconvert_exporter": "python",
   "pygments_lexer": "ipython3",
   "version": "3.9.13"
  },
  "varInspector": {
   "cols": {
    "lenName": 16,
    "lenType": 16,
    "lenVar": 40
   },
   "kernels_config": {
    "python": {
     "delete_cmd_postfix": "",
     "delete_cmd_prefix": "del ",
     "library": "var_list.py",
     "varRefreshCmd": "print(var_dic_list())"
    },
    "r": {
     "delete_cmd_postfix": ") ",
     "delete_cmd_prefix": "rm(",
     "library": "var_list.r",
     "varRefreshCmd": "cat(var_dic_list()) "
    }
   },
   "types_to_exclude": [
    "module",
    "function",
    "builtin_function_or_method",
    "instance",
    "_Feature"
   ],
   "window_display": false
  }
 },
 "nbformat": 4,
 "nbformat_minor": 5
}
