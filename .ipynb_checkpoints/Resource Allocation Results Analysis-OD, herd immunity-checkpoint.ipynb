{
 "cells": [
  {
   "cell_type": "code",
   "execution_count": 1,
   "id": "ee140cdb",
   "metadata": {},
   "outputs": [
    {
     "name": "stdout",
     "output_type": "stream",
     "text": [
      "Intel MKL WARNING: Support of Intel(R) Streaming SIMD Extensions 4.2 (Intel(R) SSE4.2) enabled only processors has been deprecated. Intel oneAPI Math Kernel Library 2025.0 will require Intel(R) Advanced Vector Extensions (Intel(R) AVX) instructions.\n",
      "Intel MKL WARNING: Support of Intel(R) Streaming SIMD Extensions 4.2 (Intel(R) SSE4.2) enabled only processors has been deprecated. Intel oneAPI Math Kernel Library 2025.0 will require Intel(R) Advanced Vector Extensions (Intel(R) AVX) instructions.\n"
     ]
    }
   ],
   "source": [
    "import gurobipy as gp\n",
    "from gurobipy import GRB\n",
    "import  numpy as np\n",
    "import pandas as pd\n",
    "import matplotlib.pyplot as plt\n",
    "from IPython.display import Markdown\n",
    "import pickle\n",
    "import matplotlib.pyplot as plt"
   ]
  },
  {
   "cell_type": "raw",
   "id": "dbbfa92f",
   "metadata": {},
   "source": [
    "!jupyter contrib nbextension install --user\n",
    "!jupyter nbextension enable varInspector/main"
   ]
  },
  {
   "cell_type": "code",
   "execution_count": 2,
   "id": "7248ed9e",
   "metadata": {},
   "outputs": [],
   "source": [
    "with open(\"travel_time.pkl\", \"rb\") as file:\n",
    "    travel_time = pickle.load(file)\n",
    "D = np.zeros((26,26,26))\n",
    "c_matrix= travel_time.copy()\n",
    "for i in range(26):\n",
    "    for j in range(26):\n",
    "        for k in range(26):\n",
    "            D[i,j,k] = min(c_matrix[i][k]+c_matrix[k][i],c_matrix[j][k]+c_matrix[k][j],c_matrix[j][k]+c_matrix[k][i]-c_matrix[j][i],c_matrix[i][k]+c_matrix[k][j]-c_matrix[i][j])\n",
    "            if D[i,j,k]<0:\n",
    "                D[i,j,k]=0"
   ]
  },
  {
   "cell_type": "code",
   "execution_count": 3,
   "id": "4f1b71d9",
   "metadata": {},
   "outputs": [],
   "source": [
    "#dfbase = pd.read_pickle('base.pkl')\n",
    "#dfbaset = pd.read_pickle('base_4time.pkl')#update\n",
    "#dfbasetherd = pd.read_pickle('vars_basecase_time_herd.pkl')\n",
    "#dfod = pd.read_pickle('base_od.pkl')\n",
    "#dfodt = pd.read_pickle('base_od_4time.pkl')#update\n",
    "dfherd = pd.read_pickle('base_4time_empweighted_500lambda.pkl')\n",
    "#dfrand = pd.read_pickle('vars_basecase_od_time_herd_case60100.pkl')\n",
    "dfrand = pd.read_pickle('base_od_4time_emp_1000lambda_prvweighted.pkl')\n",
    "#16876659.42004843\n",
    "\n",
    "districts = {0: 'Antelope Valley', \n",
    "             1: 'East Valley', \n",
    "             2: 'Glendale', \n",
    "             3: 'San Fernando', \n",
    "             4: 'West Valley',\n",
    "             5: 'Alhambra', \n",
    "             6: 'El Monte', \n",
    "             7: 'Foothill', \n",
    "             8: 'Pasadena', \n",
    "             9: 'Pomona',\n",
    "             10: 'Central', \n",
    "             11: 'Hollywood-Wilshire', \n",
    "             12: 'Northeast', \n",
    "             13: 'West',\n",
    "             14: 'Compton', \n",
    "             15: 'South', \n",
    "             16: 'Southeast', \n",
    "             17: 'Southwest',\n",
    "             18: 'Bellflower', \n",
    "             19: 'East Los Angeles', \n",
    "             20: 'San Antonio', \n",
    "             21: 'Whittier',\n",
    "             22: 'Harbor', \n",
    "             23: 'Inglewood', \n",
    "             24: 'Long Beach', \n",
    "             25: 'Torrance'}\n"
   ]
  },
  {
   "cell_type": "code",
   "execution_count": 4,
   "id": "8f178f70",
   "metadata": {},
   "outputs": [],
   "source": [
    "#dfxbase = dfbase[dfbase.name=='x']\n",
    "#dfybase = dfbase[dfbase.name=='y']\n",
    "#dfzbase = dfbase[dfbase.name=='z']\n",
    "#dfxbaset = dfbaset[dfbaset.name=='x']\n",
    "#dfybaset = dfbaset[dfbaset.name=='y']\n",
    "#dfzbaset = dfbaset[dfbaset.name=='z']\n",
    "#dfxbasetherd = dfbasetherd[dfbasetherd.name=='x']\n",
    "#dfybasetherd = dfbasetherd[dfbasetherd.name=='y']\n",
    "#dfzbasetherd = dfbasetherd[dfbasetherd.name=='z']\n",
    "#dfxod = dfod[dfod.name=='x']\n",
    "#dfyod = dfod[dfod.name=='y']\n",
    "#dfzod = dfod[dfod.name=='z']\n",
    "#dfxodt = dfodt[dfodt.name=='x']\n",
    "#dfyodt = dfodt[dfodt.name=='y']\n",
    "#dfzodt = dfodt[dfodt.name=='z']\n",
    "dfxherd = dfherd[dfherd.name=='x']\n",
    "dfyherd = dfherd[dfherd.name=='y']\n",
    "dfzherd = dfherd[dfherd.name=='z']\n",
    "dfxrand = dfrand[dfrand.name=='x']\n",
    "dfyrand = dfrand[dfrand.name=='y']\n",
    "dfzrand = dfrand[dfrand.name=='z']"
   ]
  },
  {
   "cell_type": "code",
   "execution_count": 5,
   "id": "0a0c7bc9",
   "metadata": {},
   "outputs": [],
   "source": [
    "total_pop = [420697,443569,344450,526877,899111,339399,419797,308499,140361,547523,354750,479505,287613,666399,278815,193899,166374,379199,356465,195082,407864,321720,201739,411617,469439,465691]\n"
   ]
  },
  {
   "cell_type": "code",
   "execution_count": 6,
   "id": "967023f1",
   "metadata": {},
   "outputs": [],
   "source": [
    "Herd500_herd = np.zeros((6,26))\n",
    "for tt in range(6):\n",
    "    for ii in range(26):\n",
    "        newy = dfyherd[dfyherd.t==tt]\n",
    "        newy = newy[newy.i==ii]\n",
    "        newz = dfzherd[dfzherd.t==tt]\n",
    "        newz = newz[newz.i==ii]\n",
    "        Herd500_herd[tt,ii] = (sum(newy.value)+sum(newz.value))/total_pop[ii]\n",
    "Herd10000_herd = np.zeros((6,26))\n",
    "for tt in range(6):\n",
    "    for ii in range(26):\n",
    "        newy = dfyrand[dfyrand.t==tt]\n",
    "        newy = newy[newy.i==ii]\n",
    "        newz = dfzrand[dfzrand.t==tt]\n",
    "        newz = newz[newz.i==ii]\n",
    "        Herd10000_herd[tt,ii] = (sum(newy.value)+sum(newz.value))/total_pop[ii]\n",
    "            \n"
   ]
  },
  {
   "cell_type": "code",
   "execution_count": 7,
   "id": "5f95861a",
   "metadata": {},
   "outputs": [
    {
     "data": {
      "text/plain": [
       "array([[ 5.18546602e-01,  0.00000000e+00,  0.00000000e+00,\n",
       "         1.07867681e-01,  4.45106333e-01,  0.00000000e+00,\n",
       "         6.42410498e-01,  5.30591671e-01,  0.00000000e+00,\n",
       "         7.13664997e-01,  0.00000000e+00,  1.67130687e-02,\n",
       "         0.00000000e+00,  2.85090464e-01,  0.00000000e+00,\n",
       "         0.00000000e+00,  0.00000000e+00,  0.00000000e+00,\n",
       "         5.84124669e-01,  0.00000000e+00,  0.00000000e+00,\n",
       "         5.44548054e-01,  0.00000000e+00,  0.00000000e+00,\n",
       "         6.80150137e-01,  0.00000000e+00],\n",
       "       [ 4.60000903e-01,  4.12452178e-01,  0.00000000e+00,\n",
       "         4.34695384e-01,  6.62565579e-02,  1.37142419e-01,\n",
       "         3.31522140e-01,  4.51123018e-01,  0.00000000e+00,\n",
       "         2.54182929e-01,  9.76050740e-01,  1.24236452e-01,\n",
       "         0.00000000e+00,  5.70749656e-01,  0.00000000e+00,\n",
       "         0.00000000e+00,  0.00000000e+00,  0.00000000e+00,\n",
       "         3.90422622e-01,  0.00000000e+00,  0.00000000e+00,\n",
       "         4.32587343e-01,  0.00000000e+00,  1.84734838e-02,\n",
       "         2.96464503e-01,  1.27921734e-01],\n",
       "       [ 2.37700768e-06,  5.62500986e-01,  9.81013209e-01,\n",
       "         4.29035619e-01,  3.27176511e-01,  8.42226995e-01,\n",
       "         0.00000000e+00,  0.00000000e+00,  6.79675978e-01,\n",
       "         0.00000000e+00,  0.00000000e+00,  0.00000000e+00,\n",
       "         0.00000000e+00,  1.12144526e-01,  9.58617721e-01,\n",
       "         0.00000000e+00,  0.00000000e+00,  0.00000000e+00,\n",
       "         0.00000000e+00,  9.85467650e-01,  0.00000000e+00,\n",
       "         0.00000000e+00,  0.00000000e+00,  9.15550135e-01,\n",
       "         0.00000000e+00,  0.00000000e+00],\n",
       "       [ 0.00000000e+00,  0.00000000e+00,  2.90317898e-06,\n",
       "         2.84013157e-02,  1.12712446e-01,  0.00000000e+00,\n",
       "         0.00000000e+00,  3.24150164e-06,  3.11853008e-01,\n",
       "         1.82640729e-06,  2.81888654e-06,  8.24825601e-01,\n",
       "         9.78408486e-01,  0.00000000e+00,  2.09027491e-02,\n",
       "         7.17657131e-01,  1.38519240e-01,  5.57464550e-02,\n",
       "         0.00000000e+00,  5.12604956e-06,  2.37767981e-01,\n",
       "         0.00000000e+00,  9.74680156e-01,  4.53139691e-02,\n",
       "         0.00000000e+00,  8.49292771e-01],\n",
       "       [ 0.00000000e+00,  1.38264847e-02,  0.00000000e+00,\n",
       "         0.00000000e+00,  0.00000000e+00,  0.00000000e+00,\n",
       "         0.00000000e+00, -3.05572665e-14,  0.00000000e+00,\n",
       "         0.00000000e+00,  0.00000000e+00,  3.42248777e-02,\n",
       "         7.54833752e-03,  0.00000000e+00,  2.41737353e-03,\n",
       "         2.68309790e-01,  8.55590417e-01,  9.16650624e-01,\n",
       "         0.00000000e+00,  9.17050266e-03,  7.31940058e-01,\n",
       "         1.08759169e-02,  1.51334150e-02,  2.42944290e-06,\n",
       "         0.00000000e+00,  0.00000000e+00],\n",
       "       [ 2.14501173e-02,  1.12203513e-02,  1.89838874e-02,\n",
       "         0.00000000e+00,  4.87481523e-02,  2.06305852e-02,\n",
       "         2.60673611e-02,  1.82820690e-02,  8.47101403e-03,\n",
       "         3.21502476e-02,  2.39464412e-02,  0.00000000e+00,\n",
       "         1.40431761e-02,  3.20153542e-02,  1.80621559e-02,\n",
       "         1.40330791e-02,  5.89034344e-03,  2.76029209e-02,\n",
       "         2.54527092e-02,  5.35672179e-03,  3.02919601e-02,\n",
       "         1.19886858e-02,  1.01864290e-02,  2.06599825e-02,\n",
       "         2.33853600e-02,  2.27854951e-02]])"
      ]
     },
     "execution_count": 7,
     "metadata": {},
     "output_type": "execute_result"
    }
   ],
   "source": [
    "Herd10000_herd"
   ]
  },
  {
   "cell_type": "code",
   "execution_count": 8,
   "id": "e858dfa9",
   "metadata": {},
   "outputs": [],
   "source": [
    "for t in range(1,6):\n",
    "    Herd500_herd[t] += Herd500_herd[t-1]\n",
    "    Herd10000_herd[t] += Herd10000_herd[t-1]"
   ]
  },
  {
   "cell_type": "code",
   "execution_count": 9,
   "id": "15e95227",
   "metadata": {},
   "outputs": [],
   "source": [
    "#print('lambda = 500')\n",
    "#print(Herd500_herd)\n",
    "#print('lambda = 10000')\n",
    "#print(Herd10000_herd)\n",
    "#print('diff')\n",
    "#print(Herd10000_herd-Herd500_herd)\n",
    "emp=[0.9785489423063246,\n",
    "0.9749523393023726,\n",
    "0.9810134958440276,\n",
    "0.9715990029226316,\n",
    "0.9512510687291531,\n",
    "0.9793683522808072,\n",
    "0.9739319327227332,\n",
    "0.9817156078851325,\n",
    "0.9915252477779021,\n",
    "0.9678482424468472,\n",
    "0.9760508448195166,\n",
    "0.9657752125951641,\n",
    "0.9784091897580796,\n",
    "0.967984322913777,\n",
    "0.9795198849727248,\n",
    "0.9859672856449567,\n",
    "0.9874863827092342,\n",
    "0.9723956829474802,\n",
    "0.9745472149882571,\n",
    "0.985468457303294,\n",
    "0.9697058020586842,\n",
    "0.9771345654416476,\n",
    "0.9898114604005365,\n",
    "0.979337971566636,\n",
    "0.9766137484373549,\n",
    "0.9772144560727959]"
   ]
  },
  {
   "cell_type": "code",
   "execution_count": 10,
   "id": "bfdac60b",
   "metadata": {},
   "outputs": [],
   "source": [
    "HL = np.array(emp)*np.array(total_pop)"
   ]
  },
  {
   "cell_type": "code",
   "execution_count": 11,
   "id": "f32459bc",
   "metadata": {},
   "outputs": [
    {
     "name": "stdout",
     "output_type": "stream",
     "text": [
      "time, 0\n",
      "Prioritized Antelope Valley Herd obj 411672.6043814438\n",
      "Delayed East Valley Herd obj 432458.6341920141\n",
      "Delayed Glendale Herd obj 337910.0986434753\n",
      "Prioritized San Fernando Herd obj 511913.16786286735\n",
      "Prioritized West Valley Herd obj 855280.2996561376\n",
      "Delayed Alhambra Herd obj 332396.6393957537\n",
      "Prioritized El Monte Herd obj 408853.7035612052\n",
      "Delayed Foothill Herd obj 302858.2833169555\n",
      "Delayed Pasadena Herd obj 139171.47530335412\n",
      "Prioritized Pomona Herd obj 529919.1732492251\n",
      "Delayed Central Herd obj 346254.03719972353\n",
      "Prioritized Hollywood-Wilshire Herd obj 463094.04331544414\n",
      "Delayed Northeast Herd obj 281403.2022938905\n",
      "Delayed West Herd obj 645063.7848054181\n",
      "Delayed Compton Herd obj 273104.8367286703\n",
      "Delayed South Herd obj 191178.07071927146\n",
      "Delayed Southeast Herd obj 164292.0594368661\n",
      "Delayed Southwest Herd obj 368731.4705780016\n",
      "Prioritized Bellflower Herd obj 347391.9729907891\n",
      "Delayed East Los Angeles Herd obj 192247.1575876412\n",
      "Delayed San Antonio Herd obj 395508.08725086314\n",
      "Delayed Whittier Herd obj 314363.73239388684\n",
      "Delayed Harbor Herd obj 199683.57420974382\n",
      "Delayed Inglewood Herd obj 403112.157842344\n",
      "Prioritized Long Beach Herd obj 458460.5814526835\n",
      "Delayed Torrance Herd obj 455079.97726299637\n",
      "time, 1\n",
      "Prioritized Antelope Valley Herd obj 411672.6043814438\n",
      "Delayed East Valley Herd obj 432458.6341920141\n",
      "Delayed Glendale Herd obj 337910.0986434753\n",
      "Delayed San Fernando Herd obj 511913.16786286735\n",
      "Prioritized West Valley Herd obj 855280.2996561376\n",
      "Delayed Alhambra Herd obj 332396.6393957537\n",
      "Prioritized El Monte Herd obj 408853.7035612052\n",
      "Delayed Foothill Herd obj 302858.2833169555\n",
      "Delayed Pasadena Herd obj 139171.47530335412\n",
      "Prioritized Pomona Herd obj 529919.1732492251\n",
      "Prioritized Central Herd obj 346254.03719972353\n",
      "Delayed Hollywood-Wilshire Herd obj 463094.04331544414\n",
      "Delayed Northeast Herd obj 281403.2022938905\n",
      "Prioritized West Herd obj 645063.7848054181\n",
      "Delayed Compton Herd obj 273104.8367286703\n",
      "Delayed South Herd obj 191178.07071927146\n",
      "Delayed Southeast Herd obj 164292.0594368661\n",
      "Delayed Southwest Herd obj 368731.4705780016\n",
      "Prioritized Bellflower Herd obj 347391.9729907891\n",
      "Delayed East Los Angeles Herd obj 192247.1575876412\n",
      "Delayed San Antonio Herd obj 395508.08725086314\n",
      "Delayed Whittier Herd obj 314363.73239388684\n",
      "Delayed Harbor Herd obj 199683.57420974382\n",
      "Delayed Inglewood Herd obj 403112.157842344\n",
      "Prioritized Long Beach Herd obj 458460.5814526835\n",
      "Prioritized Torrance Herd obj 455079.97726299637\n",
      "time, 2\n",
      "Prioritized Antelope Valley Herd obj 411672.6043814438\n",
      "Delayed East Valley Herd obj 432458.6341920141\n",
      "Prioritized Glendale Herd obj 337910.0986434753\n",
      "Delayed San Fernando Herd obj 511913.16786286735\n",
      "Prioritized West Valley Herd obj 855280.2996561376\n",
      "Delayed Alhambra Herd obj 332396.6393957537\n",
      "Delayed El Monte Herd obj 408853.7035612052\n",
      "Delayed Foothill Herd obj 302858.2833169555\n",
      "Delayed Pasadena Herd obj 139171.47530335412\n",
      "Prioritized Pomona Herd obj 529919.1732492251\n",
      "Prioritized Central Herd obj 346254.03719972353\n",
      "Delayed Hollywood-Wilshire Herd obj 463094.04331544414\n",
      "Delayed Northeast Herd obj 281403.2022938905\n",
      "Prioritized West Herd obj 645063.7848054181\n",
      "Prioritized Compton Herd obj 273104.8367286703\n",
      "Delayed South Herd obj 191178.07071927146\n",
      "Delayed Southeast Herd obj 164292.0594368661\n",
      "Delayed Southwest Herd obj 368731.4705780016\n",
      "Prioritized Bellflower Herd obj 347391.9729907891\n",
      "Delayed East Los Angeles Herd obj 192247.1575876412\n",
      "Delayed San Antonio Herd obj 395508.08725086314\n",
      "Delayed Whittier Herd obj 314363.73239388684\n",
      "Delayed Harbor Herd obj 199683.57420974382\n",
      "Prioritized Inglewood Herd obj 403112.157842344\n",
      "Delayed Long Beach Herd obj 458460.5814526835\n",
      "Delayed Torrance Herd obj 455079.97726299637\n",
      "time, 3\n",
      "Delayed Antelope Valley Herd obj 411672.6043814438\n",
      "Delayed East Valley Herd obj 432458.6341920141\n",
      "Delayed Glendale Herd obj 337910.0986434753\n",
      "Prioritized San Fernando Herd obj 511913.16786286735\n",
      "Delayed West Valley Herd obj 855280.2996561376\n",
      "Delayed Alhambra Herd obj 332396.6393957537\n",
      "Delayed El Monte Herd obj 408853.7035612052\n",
      "Delayed Foothill Herd obj 302858.2833169555\n",
      "Delayed Pasadena Herd obj 139171.47530335412\n",
      "Delayed Pomona Herd obj 529919.1732492251\n",
      "Prioritized Central Herd obj 346254.03719972353\n",
      "Delayed Hollywood-Wilshire Herd obj 463094.04331544414\n",
      "Delayed Northeast Herd obj 281403.2022938905\n",
      "Delayed West Herd obj 645063.7848054181\n",
      "Delayed Compton Herd obj 273104.8367286703\n",
      "Delayed South Herd obj 191178.07071927146\n",
      "Delayed Southeast Herd obj 164292.0594368661\n",
      "Delayed Southwest Herd obj 368731.4705780016\n",
      "Delayed Bellflower Herd obj 347391.9729907891\n",
      "Delayed East Los Angeles Herd obj 192247.1575876412\n",
      "Delayed San Antonio Herd obj 395508.08725086314\n",
      "Delayed Whittier Herd obj 314363.73239388684\n",
      "Delayed Harbor Herd obj 199683.57420974382\n",
      "Delayed Inglewood Herd obj 403112.157842344\n",
      "Delayed Long Beach Herd obj 458460.5814526835\n",
      "Prioritized Torrance Herd obj 455079.97726299637\n",
      "time, 4\n",
      "Delayed Antelope Valley Herd obj 411672.6043814438\n",
      "Delayed East Valley Herd obj 432458.6341920141\n",
      "Delayed Glendale Herd obj 337910.0986434753\n",
      "Delayed San Fernando Herd obj 511913.16786286735\n",
      "Delayed West Valley Herd obj 855280.2996561376\n",
      "Delayed Alhambra Herd obj 332396.6393957537\n",
      "Delayed El Monte Herd obj 408853.7035612052\n",
      "Delayed Foothill Herd obj 302858.2833169555\n",
      "Delayed Pasadena Herd obj 139171.47530335412\n",
      "Delayed Pomona Herd obj 529919.1732492251\n",
      "Delayed Central Herd obj 346254.03719972353\n",
      "Prioritized Hollywood-Wilshire Herd obj 463094.04331544414\n",
      "Prioritized Northeast Herd obj 281403.2022938905\n",
      "Delayed West Herd obj 645063.7848054181\n",
      "Prioritized Compton Herd obj 273104.8367286703\n",
      "Delayed South Herd obj 191178.07071927146\n",
      "Delayed Southeast Herd obj 164292.0594368661\n",
      "Delayed Southwest Herd obj 368731.4705780016\n",
      "Delayed Bellflower Herd obj 347391.9729907891\n",
      "Prioritized East Los Angeles Herd obj 192247.1575876412\n",
      "Delayed San Antonio Herd obj 395508.08725086314\n",
      "Prioritized Whittier Herd obj 314363.73239388684\n",
      "Delayed Harbor Herd obj 199683.57420974382\n",
      "Delayed Inglewood Herd obj 403112.157842344\n",
      "Delayed Long Beach Herd obj 458460.5814526835\n",
      "Delayed Torrance Herd obj 455079.97726299637\n",
      "time, 5\n",
      "Delayed Antelope Valley Herd obj 411672.6043814438\n",
      "Delayed East Valley Herd obj 432458.6341920141\n",
      "Delayed Glendale Herd obj 337910.0986434753\n",
      "Delayed San Fernando Herd obj 511913.16786286735\n",
      "Delayed West Valley Herd obj 855280.2996561376\n",
      "Delayed Alhambra Herd obj 332396.6393957537\n",
      "Delayed El Monte Herd obj 408853.7035612052\n",
      "Delayed Foothill Herd obj 302858.2833169555\n",
      "Delayed Pasadena Herd obj 139171.47530335412\n",
      "Delayed Pomona Herd obj 529919.1732492251\n",
      "Delayed Central Herd obj 346254.03719972353\n",
      "Delayed Hollywood-Wilshire Herd obj 463094.04331544414\n",
      "Delayed Northeast Herd obj 281403.2022938905\n",
      "Delayed West Herd obj 645063.7848054181\n",
      "Delayed Compton Herd obj 273104.8367286703\n",
      "Delayed South Herd obj 191178.07071927146\n",
      "Delayed Southeast Herd obj 164292.0594368661\n",
      "Delayed Southwest Herd obj 368731.4705780016\n",
      "Delayed Bellflower Herd obj 347391.9729907891\n",
      "Delayed East Los Angeles Herd obj 192247.1575876412\n",
      "Delayed San Antonio Herd obj 395508.08725086314\n",
      "Delayed Whittier Herd obj 314363.73239388684\n",
      "Delayed Harbor Herd obj 199683.57420974382\n",
      "Delayed Inglewood Herd obj 403112.157842344\n",
      "Delayed Long Beach Herd obj 458460.5814526835\n",
      "Delayed Torrance Herd obj 455079.97726299637\n"
     ]
    }
   ],
   "source": [
    "xx = Herd10000_herd-Herd500_herd\n",
    "for t in range(6):\n",
    "    print('time,',t)\n",
    "    for x in range(26):\n",
    "        if xx[t,x]<0.0001:\n",
    "            print('Delayed',districts[x],'Herd obj',HL[x])\n",
    "        elif xx[t,x]>0.0001:\n",
    "            print('Prioritized',districts[x],'Herd obj',HL[x])\n",
    "        "
   ]
  },
  {
   "cell_type": "code",
   "execution_count": 12,
   "id": "5be7d1a8",
   "metadata": {},
   "outputs": [],
   "source": [
    "score = 0\n",
    "for t in range(6):\n",
    "    for i in range(26):\n",
    "        for j in range(26):\n",
    "            y_v = dfrand[dfrand.i==i]\n",
    "            y_v = y_v[y_v.j==j]\n",
    "            y_v = y_v[y_v.t==t]\n",
    "            y_v = y_v.value.values[0]\n",
    "            score += y_v*(2*travel_time[i][j])\n",
    "            for k in range(26):\n",
    "                z_v = dfzrand[dfzrand.i==i]\n",
    "                z_v = z_v[z_v.j==j]\n",
    "                z_v = z_v[z_v.k==k]\n",
    "                z_v = z_v[z_v.t==t]\n",
    "                z_v = z_v.value.values[0]\n",
    "                score += z_v*D[i][j][k]"
   ]
  },
  {
   "cell_type": "code",
   "execution_count": 13,
   "id": "2db3aa23",
   "metadata": {},
   "outputs": [
    {
     "data": {
      "text/plain": [
       "223470933.65333307"
      ]
     },
     "execution_count": 13,
     "metadata": {},
     "output_type": "execute_result"
    }
   ],
   "source": [
    "score\n"
   ]
  },
  {
   "cell_type": "raw",
   "id": "d5090db5",
   "metadata": {},
   "source": [
    "score=244015174.24333337 #80% herd\n",
    "score=147803946.7933333\n",
    "score=316085984.01666695 #60% herd\n",
    "score=311653812.5000001 #100% herd"
   ]
  },
  {
   "cell_type": "raw",
   "id": "65ac0d45",
   "metadata": {},
   "source": [
    "markdown_content = f\"\"\"\n",
    "Solutions with 5 vaccination sites : \n",
    "\n",
    "| Model   | Solutions | travel objective      |\n",
    "|--------|-----|-----------|\n",
    "| base   | {districts[dfxbase[dfxbase.value==1].i.values[0]]}, {districts[dfxbase[dfxbase.value==1].i.values[1]]}, {districts[dfxbase[dfxbase.value==1].i.values[2]]},{districts[dfxbase[dfxbase.value==1].i.values[3]]}, {districts[dfxbase[dfxbase.value==1].i.values[4]]},{districts[dfxbaset[dfxbaset.value==1].i.values[5]]}| 2.98947e+08  |\n",
    "| base +time  | {districts[dfxbaset[dfxbaset.value==1].i.values[0]]}, {districts[dfxbaset[dfxbaset.value==1].i.values[1]]}, {districts[dfxbaset[dfxbaset.value==1].i.values[2]]},{districts[dfxbaset[dfxbaset.value==1].i.values[3]]}, {districts[dfxbaset[dfxbaset.value==1].i.values[4]]},{districts[dfxbaset[dfxbaset.value==1].i.values[5]]}| 3.33309e+08  |\n",
    "| base+od   | {districts[dfxod[dfxod.value==1].i.values[0]]}, {districts[dfxod[dfxod.value==1].i.values[1]]}, {districts[dfxod[dfxod.value==1].i.values[2]]}, {districts[dfxod[dfxod.value==1].i.values[3]]}, {districts[dfxod[dfxod.value==1].i.values[4]]},{districts[dfxbaset[dfxbaset.value==1].i.values[5]]} | 2.15273e+08   |\n",
    "| base+od+time(6 periods)   | {districts[dfxodt[dfxodt.value==1].i.values[0]]}, {districts[dfxodt[dfxodt.value==1].i.values[1]]}, {districts[dfxodt[dfxodt.value==1].i.values[2]]}, {districts[dfxodt[dfxodt.value==1].i.values[3]]}, {districts[dfxodt[dfxodt.value==1].i.values[4]]},{districts[dfxbaset[dfxbaset.value==1].i.values[5]]}  | 2.44014e+08     |\n",
    "| base+time(6 periods)+herd imunnity (80%)  | {districts[dfxbasetherd[dfxbasetherd.value==1].i.values[0]]}, {districts[dfxbasetherd[dfxbasetherd.value==1].i.values[1]]}, {districts[dfxbasetherd[dfxbasetherd.value==1].i.values[2]]}, {districts[dfxbasetherd[dfxbasetherd.value==1].i.values[3]]}, {districts[dfxbasetherd[dfxbasetherd.value==1].i.values[4]]}  | 3.33369e+08     |\n",
    "| base+od+time(6 periods)+herd imunnity (80%)   | {districts[dfxherd[dfxherd.value==1].i.values[0]]}, {districts[dfxherd[dfxherd.value==1].i.values[1]]}, {districts[dfxherd[dfxherd.value==1].i.values[2]]}, {districts[dfxherd[dfxherd.value==1].i.values[3]]}, {districts[dfxherd[dfxherd.value==1].i.values[4]]}  | 2.44014e+08     |\n",
    "| base+od+time(6 periods)+herd imunnity (60%)   | {districts[dfxrand[dfxrand.value==1].i.values[0]]}, {districts[dfxrand[dfxrand.value==1].i.values[1]]}, {districts[dfxrand[dfxrand.value==1].i.values[2]]}, {districts[dfxrand[dfxrand.value==1].i.values[3]]}, {districts[dfxrand[dfxrand.value==1].i.values[4]]}, {districts[dfxrand[dfxrand.value==1].i.values[4]]}  | 2.44015e+08     |\n",
    "\n",
    "\"\"\"\n",
    "\n",
    "from IPython.display import Markdown\n",
    "display(Markdown(markdown_content))"
   ]
  },
  {
   "cell_type": "markdown",
   "id": "be8f4581",
   "metadata": {},
   "source": [
    "# Base model + OD + 6 periods + 60% herd imunity"
   ]
  },
  {
   "cell_type": "code",
   "execution_count": 14,
   "id": "b5b3a244",
   "metadata": {},
   "outputs": [
    {
     "name": "stdout",
     "output_type": "stream",
     "text": [
      "San Fernando\n",
      "West Valley\n",
      "El Monte\n",
      "Central\n",
      "Bellflower\n",
      "Inglewood\n",
      "more smooth\n"
     ]
    }
   ],
   "source": [
    "flow_matrix = np.zeros((26,26,6))\n",
    "flow_matrix_od = np.zeros((26,26,26,6))\n",
    "for t in range(6):\n",
    "    for i in range(26):\n",
    "        for j in range(26):\n",
    "            new = dfyrand[dfyrand['i']==i]\n",
    "            new = new[new['j']==j]\n",
    "            new = new[new['t']==t]\n",
    "            flow_matrix[i,j,t] = sum(new.value)\n",
    "            for k in range(26):\n",
    "                new2 = dfzrand[dfzrand['i']==i]\n",
    "                new2 = new2[new2['j']==j]\n",
    "                new2 = new2[new2['k']==k]\n",
    "                new2 = new2[new2['t']==t]\n",
    "                flow_matrix_od[i,j,k,t] = sum(new2.value)\n",
    "sites = list(dfxrand[dfxrand.value==1].i)\n",
    "\n",
    "indices = np.arange(len(districts))\n",
    "index_names = [districts[i] for i in indices]\n",
    "categories = []\n",
    "values = np.zeros((5,6))\n",
    "sites_map = {}\n",
    "count = 0\n",
    "for site in sites:\n",
    "    print(districts[site])\n",
    "    sites_map[site]=count\n",
    "    count+=1\n",
    "    categories.append(districts[site])\n",
    "    #print(np.sum(flow_matrix[:,site,:])+np.sum(flow_matrix_od[:,:,site,:]))\n",
    "    #values.append(np.sum(flow_matrix[:,site,:])+np.sum(flow_matrix_od[:,:,site,:]))\n",
    "print('more smooth')"
   ]
  },
  {
   "cell_type": "code",
   "execution_count": 15,
   "id": "36d6229b",
   "metadata": {},
   "outputs": [
    {
     "name": "stdout",
     "output_type": "stream",
     "text": [
      "Foothill\n",
      "7\n",
      "100.0000000000875 % go to closest vaccination site\n",
      "-8.750015399697035e-11 % go to second closest vaccination site\n",
      "0.0 % go to third closest vaccination site\n"
     ]
    }
   ],
   "source": [
    "#print(np.where(flow_matrix[0]>0)[0][0])\n",
    "first = 0\n",
    "second = 0\n",
    "third = 0\n",
    "fourth = 0\n",
    "fifth = 0\n",
    "for site in list(districts.keys()):\n",
    "    candiates = travel_time[site,:].copy()\n",
    "    for vac_site in sites:\n",
    "        candiates[vac_site] -= 1000\n",
    "    sorted_indices = np.argsort(candiates)\n",
    "    index1 = sorted_indices[0]\n",
    "    index2 = sorted_indices[1]\n",
    "    index3 = sorted_indices[2]\n",
    "    index4 = sorted_indices[4]\n",
    "    index5 = sorted_indices[5]\n",
    "    percentage = 100*np.sum(flow_matrix[site,index1,:])/np.sum(flow_matrix[site])\n",
    "    values[0,sites_map[index1]] += np.sum(flow_matrix[site,index1,:])\n",
    "    values[1,sites_map[index2]] += np.sum(flow_matrix[site,index2,:])\n",
    "    values[2,sites_map[index3]] += np.sum(flow_matrix[site,index3,:])\n",
    "    values[3,sites_map[index4]] += np.sum(flow_matrix[site,index4,:])\n",
    "    values[4,sites_map[index5]] += np.sum(flow_matrix[site,index5,:])\n",
    "    percentage2 = 100*np.sum(flow_matrix[site,index2,:])/np.sum(flow_matrix[site])\n",
    "    percentage3 = 100*np.sum(flow_matrix[site,index3,:])/np.sum(flow_matrix[site])\n",
    "    first += np.sum(flow_matrix[site,index1,:])\n",
    "    second += np.sum(flow_matrix[site,index2,:])\n",
    "    third += np.sum(flow_matrix[site,index3,:])\n",
    "    fourth += np.sum(flow_matrix[site,index4,:])\n",
    "    fifth += np.sum(flow_matrix[site,index5,:])\n",
    "    if percentage>100:\n",
    "        print(districts[site])\n",
    "        print(site)\n",
    "        #print('preferred',districts[np.argmin(travel_time[site,:])])\n",
    "        #print('actual',districts[np.where(flow_matrix[site]>0)[0][0]])\n",
    "        print(percentage,'% go to closest vaccination site')\n",
    "        print(percentage2,'% go to second closest vaccination site')\n",
    "        print(percentage3,'% go to third closest vaccination site')\n"
   ]
  },
  {
   "cell_type": "code",
   "execution_count": 16,
   "id": "1fb6bf78",
   "metadata": {},
   "outputs": [],
   "source": [
    "with open(\"travel_time.pkl\", \"rb\") as file:\n",
    "    c_m_v = pickle.load(file)"
   ]
  },
  {
   "cell_type": "code",
   "execution_count": 17,
   "id": "25bb38ce",
   "metadata": {},
   "outputs": [
    {
     "name": "stdout",
     "output_type": "stream",
     "text": [
      "OD pair Harbor to Northeast\n",
      "100.00000000326023 % go to closest vaccination site\n"
     ]
    }
   ],
   "source": [
    "first_od = 0\n",
    "second_od = 0\n",
    "third_od = 0\n",
    "fourth_od = 0\n",
    "fifth_od = 0\n",
    "first_odo = 0\n",
    "second_odo = 0\n",
    "third_odo = 0\n",
    "fourth_odo = 0\n",
    "fifth_odo = 0\n",
    "first_odd = 0\n",
    "second_odd = 0\n",
    "third_odd = 0\n",
    "fourth_odd = 0\n",
    "fifth_odd = 0\n",
    "for site in list(districts.keys()):\n",
    "    for site2 in list(districts.keys()):\n",
    "        candiates2 = D[site,site2,:].copy()\n",
    "        candiates2[site] = -1\n",
    "        for vac_site in sites:\n",
    "            candiates2[vac_site] -= 1000\n",
    "        sorted_indices = np.argsort(candiates2)\n",
    "        index1 = sorted_indices[0]\n",
    "        index2 = sorted_indices[1]\n",
    "        index3 = sorted_indices[2]\n",
    "        index4 = sorted_indices[3]\n",
    "        index5 = sorted_indices[4]\n",
    "        if np.sum(flow_matrix_od[site,site2])>0:\n",
    "            percentage_route = 100*(np.sum(flow_matrix_od[site,site2,index1]))/np.sum(flow_matrix_od[site,site2])\n",
    "        else:\n",
    "            percentage_route = 100\n",
    "        if np.sum(flow_matrix_od[site,site2])>0:\n",
    "            percentage_route2 = 100*(np.sum(flow_matrix_od[site,site2,index2]))/np.sum(flow_matrix_od[site,site2])\n",
    "        else:\n",
    "            percentage_route2 = 100\n",
    "        if np.sum(flow_matrix_od[site,site2])>0:\n",
    "            percentage_route3 = 100*(np.sum(flow_matrix_od[site,site2,index3]))/np.sum(flow_matrix_od[site,site2])\n",
    "        else:\n",
    "            percentage_route3 = 100  \n",
    "        if np.sum(flow_matrix_od[site,site2])>0:\n",
    "            percentage_route4 = 100*(np.sum(flow_matrix_od[site,site2,index4]))/np.sum(flow_matrix_od[site,site2])\n",
    "        else:\n",
    "            percentage_route4 = 100 \n",
    "        if np.sum(flow_matrix_od[site,site2])>0:\n",
    "            percentage_route5 = 100*(np.sum(flow_matrix_od[site,site2,index5]))/np.sum(flow_matrix_od[site,site2])\n",
    "        else:\n",
    "            percentage_route5 = 100 \n",
    "        first_od += np.sum(flow_matrix_od[site,site2,index1])\n",
    "        if c_m_v[site,index1]<c_m_v[site2,index1]:\n",
    "            first_odo += np.sum(flow_matrix_od[site,site2,index1])\n",
    "        else:\n",
    "            first_odd += np.sum(flow_matrix_od[site,site2,index1])\n",
    "        if index2 == site2:\n",
    "            values[0,sites_map[index1]] += np.sum(flow_matrix_od[site,site2,index1])\n",
    "            values[0,sites_map[index2]] += np.sum(flow_matrix_od[site,site2,index2])\n",
    "            values[1,sites_map[index3]] += np.sum(flow_matrix_od[site,site2,index3])\n",
    "            values[2,sites_map[index4]] += np.sum(flow_matrix_od[site,site2,index4])\n",
    "            values[3,sites_map[index5]] += np.sum(flow_matrix_od[site,site2,index5])\n",
    "            first_od += np.sum(flow_matrix_od[site,site2,index2])\n",
    "            if c_m_v[site,index2]<c_m_v[site2,index2]:\n",
    "                first_odo += np.sum(flow_matrix_od[site,site2,index2])\n",
    "            else:\n",
    "                first_odd += np.sum(flow_matrix_od[site,site2,index2])\n",
    "            second_od += np.sum(flow_matrix_od[site,site2,index3])\n",
    "            if c_m_v[site,index2]<c_m_v[site2,index3]:\n",
    "                second_odo += np.sum(flow_matrix_od[site,site2,index3])\n",
    "            else:\n",
    "                second_odd += np.sum(flow_matrix_od[site,site2,index3])\n",
    "            third_od += np.sum(flow_matrix_od[site,site2,index4])\n",
    "            if c_m_v[site,index3]<c_m_v[site2,index4]:\n",
    "                third_odo += np.sum(flow_matrix_od[site,site2,index4])\n",
    "            else:\n",
    "                third_odd += np.sum(flow_matrix_od[site,site2,index4])\n",
    "            fourth_od += np.sum(flow_matrix_od[site,site2,index5])\n",
    "            if c_m_v[site,index4]<c_m_v[site2,index5]:\n",
    "                fourth_odo += np.sum(flow_matrix_od[site,site2,index5])\n",
    "            else:\n",
    "                fourth_odd += np.sum(flow_matrix_od[site,site2,index5])\n",
    "        else:\n",
    "            values[0,sites_map[index1]] += np.sum(flow_matrix_od[site,site2,index1])\n",
    "            values[1,sites_map[index2]] += np.sum(flow_matrix_od[site,site2,index2])\n",
    "            values[2,sites_map[index3]] += np.sum(flow_matrix_od[site,site2,index3])\n",
    "            values[3,sites_map[index4]] += np.sum(flow_matrix_od[site,site2,index4])\n",
    "            values[4,sites_map[index5]] += np.sum(flow_matrix_od[site,site2,index5])\n",
    "            second_od += np.sum(flow_matrix_od[site,site2,index2])\n",
    "            if c_m_v[site,index2]<c_m_v[site2,index2]:\n",
    "                second_odo += np.sum(flow_matrix_od[site,site2,index2])\n",
    "            else:\n",
    "                second_odd += np.sum(flow_matrix_od[site,site2,index2])\n",
    "            third_od += np.sum(flow_matrix_od[site,site2,index3])\n",
    "            if c_m_v[site,index3]<c_m_v[site2,index3]:\n",
    "                third_odo += np.sum(flow_matrix_od[site,site2,index3])\n",
    "            else:\n",
    "                third_odd += np.sum(flow_matrix_od[site,site2,index3])\n",
    "            fourth_od += np.sum(flow_matrix_od[site,site2,index4])\n",
    "            if c_m_v[site,index4]<c_m_v[site2,index4]:\n",
    "                fourth_odo += np.sum(flow_matrix_od[site,site2,index4])\n",
    "            else:\n",
    "                fourth_odd += np.sum(flow_matrix_od[site,site2,index4])\n",
    "            fifth_od += np.sum(flow_matrix_od[site,site2,index5])\n",
    "            if c_m_v[site,index5]<c_m_v[site2,index5]:\n",
    "                fifth_odo += np.sum(flow_matrix_od[site,site2,index5])\n",
    "            else:\n",
    "                fifth_odd += np.sum(flow_matrix_od[site,site2,index5])\n",
    "        if percentage_route>100:\n",
    "            print('OD pair '+districts[site]+' to '+districts[site2])\n",
    "            if percentage_route>0:\n",
    "                print(percentage_route,'% go to closest vaccination site')\n",
    "            if percentage_route2>0:\n",
    "                print(percentage_route2,'% go to second closest vaccination site')\n",
    "            if percentage_route3>0:\n",
    "                print(percentage_route3,'% go to third closest vaccination site')\n",
    "            if percentage_route4>0:\n",
    "                print(percentage_route4,'% go to fourth closest vaccination site')\n",
    "            if percentage_route5>0:\n",
    "                print(percentage_route5,'% go to fourth closest vaccination site')"
   ]
  },
  {
   "cell_type": "code",
   "execution_count": 18,
   "id": "c96c5f89",
   "metadata": {
    "scrolled": true
   },
   "outputs": [
    {
     "name": "stdout",
     "output_type": "stream",
     "text": [
      "64.82323660987242 % people go to closest vaccine site;\n",
      "16.65418302422769 % people go to closest (D) vaccine site;\n",
      "\n",
      "6.682202900447153 % people go to 2nd closest vaccine site;\n",
      "6.154040102313183 % people go to 2nd closest (D) vaccine site;\n",
      "\n",
      "2.868022932135411 % people go to 3rd closest vaccine site;\n",
      "1.3895241528062037 % people go to 3rd closest (D) vaccine site;\n",
      "\n",
      "0.21317606404018807 % people go to 4th closest vaccine site;\n",
      "0.26019168890602196 % people go to 4th closest (D) vaccine site;\n",
      "\n",
      "0.03857794590191108 % people go to 5th closest vaccine site;\n",
      "0.24882176689784843 % people go to 5th closest (D) vaccine site;\n",
      "\n"
     ]
    },
    {
     "data": {
      "text/plain": [
       "0.8147741963410011"
      ]
     },
     "execution_count": 18,
     "metadata": {},
     "output_type": "execute_result"
    }
   ],
   "source": [
    "#print('Overall,\\n\\n for non-communters,\\n',100*first/np.sum(flow_matrix),'% people go to closest vaccine site;\\n',100*second/np.sum(flow_matrix),'% people go to second closest vaccine site;\\n',100*third/np.sum(flow_matrix),'% people go to third closest vaccine site;\\n')\n",
    "#print('for communters,\\n',100*first_od/np.sum(flow_matrix_od),'% people go to closest vaccine site;\\n',100*second_od/np.sum(flow_matrix_od),'% people go to second closest vaccine site;\\n',100*third_od/np.sum(flow_matrix_od),'% people go to third closest vaccine site;\\n',100*fifth_od/np.sum(flow_matrix_od),'% people go to fifth closest vaccine site;\\n')\n",
    "print(100*(first+first_odo)/sum(total_pop),'% people go to closest vaccine site;')\n",
    "print(100*(first_odd)/sum(total_pop),'% people go to closest (D) vaccine site;\\n')\n",
    "print(100*(second+second_odo)/sum(total_pop),'% people go to 2nd closest vaccine site;')\n",
    "print(100*(second_odd)/sum(total_pop),'% people go to 2nd closest (D) vaccine site;\\n')\n",
    "print(100*(third+third_odo)/sum(total_pop),'% people go to 3rd closest vaccine site;')\n",
    "print(100*(third_odd)/sum(total_pop),'% people go to 3rd closest (D) vaccine site;\\n')\n",
    "print(100*(fourth+fourth_odo)/sum(total_pop),'% people go to 4th closest vaccine site;')\n",
    "print(100*(fourth_odd)/sum(total_pop),'% people go to 4th closest (D) vaccine site;\\n')\n",
    "print(100*(fifth+fifth_odo)/sum(total_pop),'% people go to 5th closest vaccine site;')\n",
    "print(100*(fifth_odd)/sum(total_pop),'% people go to 5th closest (D) vaccine site;\\n')\n",
    "(first+first_odo+first_odd)/sum(total_pop)"
   ]
  },
  {
   "cell_type": "code",
   "execution_count": 19,
   "id": "e68a5ca6",
   "metadata": {},
   "outputs": [
    {
     "data": {
      "text/plain": [
       "0.1292256870969588"
      ]
     },
     "execution_count": 19,
     "metadata": {},
     "output_type": "execute_result"
    }
   ],
   "source": [
    "sum(values[1])/np.sum(values)"
   ]
  },
  {
   "cell_type": "code",
   "execution_count": 20,
   "id": "4f34ccb2",
   "metadata": {},
   "outputs": [
    {
     "data": {
      "image/png": "[encoded data removed]",
      "text/plain": [
       "<Figure size 640x480 with 1 Axes>"
      ]
     },
     "metadata": {},
     "output_type": "display_data"
    }
   ],
   "source": [
    "## plt.figure(figsize=(8, 6), dpi=300)  # Set figure size and DPI for high resolution\n",
    "\n",
    "\n",
    "plt.bar(categories, values[0], color='red')\n",
    "plt.bar(categories, values[1], bottom=values[0], color='green')\n",
    "plt.bar(categories, values[2], bottom=values[1]+values[0], color='blue')\n",
    "\n",
    "\n",
    "plt.xlabel('Mega Sites',fontsize=16)\n",
    "plt.ylabel('Number of Vaccinations',fontsize=16)\n",
    "#plt.title('Bar Plot Example')\n",
    "\n",
    "plt.xticks(rotation=45)  # Rotate the x-axis labels if needed\n",
    "plt.tight_layout()  # Adjust layout to prevent label clipping\n",
    "plt.ylim(-1, 3000000)\n",
    "plt.legend(['closest', '2nd closest', '3rd closest'])\n",
    "plt.savefig('bar_plot.png', dpi=300, bbox_inches='tight')  # Save as a high-resolution image\n"
   ]
  },
  {
   "cell_type": "code",
   "execution_count": null,
   "id": "e31b5b28",
   "metadata": {},
   "outputs": [],
   "source": []
  },
  {
   "cell_type": "code",
   "execution_count": 21,
   "id": "aea6d014",
   "metadata": {},
   "outputs": [
    {
     "data": {
      "image/png": "[encoded data removed]",
      "text/plain": [
       "<Figure size 640x480 with 1 Axes>"
      ]
     },
     "metadata": {},
     "output_type": "display_data"
    }
   ],
   "source": [
    "ia = np.array([3.69,3.86,4.03,3.93,4.06,4.04,4.04,4.04,3.89,3.88,4.04,4.04,3.88,3.89,3.85,3.86])\n",
    "ti = np.array([2.77,1.97,3.16,2.26,3.21,2.29,2.94,2.12,2.98,2.12,3.1,2.16,3,2.12,3.08,2.21])\n",
    "import matplotlib.pyplot as plt\n",
    "ia1 = [ia[i] for i in range(0,len(ia),2)]\n",
    "ia2 = [ia[i] for i in range(1,len(ia),2)]\n",
    "ti1 = [ti[i] for i in range(0,len(ti),2)]\n",
    "ti2 = [ti[i] for i in range(1,len(ti),2)]\n",
    "\n",
    "plt.scatter(ia1, ti1)\n",
    "plt.scatter(ia2, ti2)\n",
    "plt.xlabel(\"Infection Averted (10e5)\")\n",
    "plt.ylabel(\"Travel Inconvinence (10e8)\")\n",
    "plt.show()"
   ]
  },
  {
   "cell_type": "code",
   "execution_count": 22,
   "id": "3c940a19",
   "metadata": {},
   "outputs": [
    {
     "name": "stdout",
     "output_type": "stream",
     "text": [
      "0\n",
      "2\n",
      "4\n",
      "6\n",
      "8\n",
      "10\n",
      "12\n",
      "14\n"
     ]
    }
   ],
   "source": [
    "for i in range(0,len(ia),2):\n",
    "    print(i)"
   ]
  },
  {
   "cell_type": "code",
   "execution_count": 23,
   "id": "7b8fcb38",
   "metadata": {},
   "outputs": [
    {
     "data": {
      "text/plain": [
       "6.083905636030444"
      ]
     },
     "execution_count": 23,
     "metadata": {},
     "output_type": "execute_result"
    }
   ],
   "source": [
    "((2.85-2.24)*10**8)/sum(total_pop)"
   ]
  },
  {
   "cell_type": "code",
   "execution_count": 24,
   "id": "61b95d30",
   "metadata": {},
   "outputs": [
    {
     "data": {
      "text/plain": [
       "60999999.999999985"
      ]
     },
     "execution_count": 24,
     "metadata": {},
     "output_type": "execute_result"
    }
   ],
   "source": [
    "((2.85-2.24)*(10**8))"
   ]
  },
  {
   "cell_type": "code",
   "execution_count": null,
   "id": "d06db764",
   "metadata": {},
   "outputs": [],
   "source": []
  }
 ],
 "metadata": {
  "kernelspec": {
   "display_name": "Python 3 (ipykernel)",
   "language": "python",
   "name": "python3"
  },
  "language_info": {
   "codemirror_mode": {
    "name": "ipython",
    "version": 3
   },
   "file_extension": ".py",
   "mimetype": "text/x-python",
   "name": "python",
   "nbconvert_exporter": "python",
   "pygments_lexer": "ipython3",
   "version": "3.9.13"
  },
  "varInspector": {
   "cols": {
    "lenName": 16,
    "lenType": 16,
    "lenVar": 40
   },
   "kernels_config": {
    "python": {
     "delete_cmd_postfix": "",
     "delete_cmd_prefix": "del ",
     "library": "var_list.py",
     "varRefreshCmd": "print(var_dic_list())"
    },
    "r": {
     "delete_cmd_postfix": ") ",
     "delete_cmd_prefix": "rm(",
     "library": "var_list.r",
     "varRefreshCmd": "cat(var_dic_list()) "
    }
   },
   "types_to_exclude": [
    "module",
    "function",
    "builtin_function_or_method",
    "instance",
    "_Feature"
   ],
   "window_display": false
  }
 },
 "nbformat": 4,
 "nbformat_minor": 5
}
