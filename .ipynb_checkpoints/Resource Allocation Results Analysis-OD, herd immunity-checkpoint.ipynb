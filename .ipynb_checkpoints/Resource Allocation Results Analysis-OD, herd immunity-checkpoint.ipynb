{
 "cells": [
  {
   "cell_type": "code",
   "execution_count": null,
   "id": "ee140cdb",
   "metadata": {},
   "outputs": [],
   "source": [
    "import gurobipy as gp\n",
    "from gurobipy import GRB\n",
    "import  numpy as np\n",
    "import pandas as pd\n",
    "import matplotlib.pyplot as plt\n",
    "from IPython.display import Markdown\n",
    "import pickle\n",
    "import matplotlib.pyplot as plt"
   ]
  },
  {
   "cell_type": "raw",
   "id": "dbbfa92f",
   "metadata": {},
   "source": [
    "!jupyter contrib nbextension install --user\n",
    "!jupyter nbextension enable varInspector/main"
   ]
  },
  {
   "cell_type": "code",
   "execution_count": null,
   "id": "7248ed9e",
   "metadata": {},
   "outputs": [],
   "source": [
    "with open(\"data/travel_time.pkl\", \"rb\") as file:\n",
    "    travel_time = pickle.load(file)\n",
    "D = np.zeros((26,26,26))\n",
    "c_matrix= travel_time.copy()\n",
    "for i in range(26):\n",
    "    for j in range(26):\n",
    "        for k in range(26):\n",
    "            D[i,j,k] = min(c_matrix[i][k]+c_matrix[k][i],c_matrix[j][k]+c_matrix[k][j],c_matrix[j][k]+c_matrix[k][i]-c_matrix[j][i],c_matrix[i][k]+c_matrix[k][j]-c_matrix[i][j])\n",
    "            if D[i,j,k]<0:\n",
    "                D[i,j,k]=0"
   ]
  },
  {
   "cell_type": "code",
   "execution_count": null,
   "id": "4f1b71d9",
   "metadata": {},
   "outputs": [],
   "source": [
    "#dfbase = pd.read_pickle('base.pkl')\n",
    "#dfbaset = pd.read_pickle('base_4time.pkl')#update\n",
    "#dfbasetherd = pd.read_pickle('vars_basecase_time_herd.pkl')\n",
    "#dfod = pd.read_pickle('base_od.pkl')\n",
    "#dfodt = pd.read_pickle('base_od_4time.pkl')#update\n",
    "#dfherd = pd.read_pickle('base_4time_empweighted_500lambda.pkl')\n",
    "#dfrand = pd.read_pickle('vars_basecase_od_time_herd_case60100.pkl')\n",
    "dfrand = pd.read_pickle('results/base_od_4time_total_1lambda_odweighted.pkl')\n",
    "#16876659.42004843\n",
    "\n",
    "districts = {0: 'Antelope Valley', \n",
    "             1: 'East Valley', \n",
    "             2: 'Glendale', \n",
    "             3: 'San Fernando', \n",
    "             4: 'West Valley',\n",
    "             5: 'Alhambra', \n",
    "             6: 'El Monte', \n",
    "             7: 'Foothill', \n",
    "             8: 'Pasadena', \n",
    "             9: 'Pomona',\n",
    "             10: 'Central', \n",
    "             11: 'Hollywood-Wilshire', \n",
    "             12: 'Northeast', \n",
    "             13: 'West',\n",
    "             14: 'Compton', \n",
    "             15: 'South', \n",
    "             16: 'Southeast', \n",
    "             17: 'Southwest',\n",
    "             18: 'Bellflower', \n",
    "             19: 'East Los Angeles', \n",
    "             20: 'San Antonio', \n",
    "             21: 'Whittier',\n",
    "             22: 'Harbor', \n",
    "             23: 'Inglewood', \n",
    "             24: 'Long Beach', \n",
    "             25: 'Torrance'}\n"
   ]
  },
  {
   "cell_type": "code",
   "execution_count": null,
   "id": "8f178f70",
   "metadata": {},
   "outputs": [],
   "source": [
    "#dfxbase = dfbase[dfbase.name=='x']\n",
    "#dfybase = dfbase[dfbase.name=='y']\n",
    "#dfzbase = dfbase[dfbase.name=='z']\n",
    "#dfxbaset = dfbaset[dfbaset.name=='x']\n",
    "#dfybaset = dfbaset[dfbaset.name=='y']\n",
    "#dfzbaset = dfbaset[dfbaset.name=='z']\n",
    "#dfxbasetherd = dfbasetherd[dfbasetherd.name=='x']\n",
    "#dfybasetherd = dfbasetherd[dfbasetherd.name=='y']\n",
    "#dfzbasetherd = dfbasetherd[dfbasetherd.name=='z']\n",
    "#dfxod = dfod[dfod.name=='x']\n",
    "#dfyod = dfod[dfod.name=='y']\n",
    "#dfzod = dfod[dfod.name=='z']\n",
    "#dfxodt = dfodt[dfodt.name=='x']\n",
    "#dfyodt = dfodt[dfodt.name=='y']\n",
    "#dfzodt = dfodt[dfodt.name=='z']\n",
    "#dfxherd = dfherd[dfherd.name=='x']\n",
    "#dfyherd = dfherd[dfherd.name=='y']\n",
    "#dfzherd = dfherd[dfherd.name=='z']\n",
    "dfxrand = dfrand[dfrand.name=='x']\n",
    "dfyrand = dfrand[dfrand.name=='y']\n",
    "dfzrand = dfrand[dfrand.name=='z']"
   ]
  },
  {
   "cell_type": "code",
   "execution_count": null,
   "id": "0a0c7bc9",
   "metadata": {},
   "outputs": [],
   "source": [
    "total_pop = [420697,443569,344450,526877,899111,339399,419797,308499,140361,547523,354750,479505,287613,666399,278815,193899,166374,379199,356465,195082,407864,321720,201739,411617,469439,465691]\n"
   ]
  },
  {
   "cell_type": "raw",
   "id": "0972ed63",
   "metadata": {},
   "source": [
    "Herd500_herd = np.zeros((6,26))\n",
    "for tt in range(6):\n",
    "    for ii in range(26):\n",
    "        newy = dfyherd[dfyherd.t==tt]\n",
    "        newy = newy[newy.i==ii]\n",
    "        newz = dfzherd[dfzherd.t==tt]\n",
    "        newz = newz[newz.i==ii]\n",
    "        Herd500_herd[tt,ii] = (sum(newy.value)+sum(newz.value))/total_pop[ii]\n",
    "Herd10000_herd = np.zeros((6,26))\n",
    "for tt in range(6):\n",
    "    for ii in range(26):\n",
    "        newy = dfyrand[dfyrand.t==tt]\n",
    "        newy = newy[newy.i==ii]\n",
    "        newz = dfzrand[dfzrand.t==tt]\n",
    "        newz = newz[newz.i==ii]\n",
    "        Herd10000_herd[tt,ii] = (sum(newy.value)+sum(newz.value))/total_pop[ii]\n",
    "            \n"
   ]
  },
  {
   "cell_type": "code",
   "execution_count": null,
   "id": "15e95227",
   "metadata": {},
   "outputs": [],
   "source": [
    "#print('lambda = 500')\n",
    "#print(Herd500_herd)\n",
    "#print('lambda = 10000')\n",
    "#print(Herd10000_herd)\n",
    "#print('diff')\n",
    "#print(Herd10000_herd-Herd500_herd)\n",
    "emp=[0.9785489423063246,\n",
    "0.9749523393023726,\n",
    "0.9810134958440276,\n",
    "0.9715990029226316,\n",
    "0.9512510687291531,\n",
    "0.9793683522808072,\n",
    "0.9739319327227332,\n",
    "0.9817156078851325,\n",
    "0.9915252477779021,\n",
    "0.9678482424468472,\n",
    "0.9760508448195166,\n",
    "0.9657752125951641,\n",
    "0.9784091897580796,\n",
    "0.967984322913777,\n",
    "0.9795198849727248,\n",
    "0.9859672856449567,\n",
    "0.9874863827092342,\n",
    "0.9723956829474802,\n",
    "0.9745472149882571,\n",
    "0.985468457303294,\n",
    "0.9697058020586842,\n",
    "0.9771345654416476,\n",
    "0.9898114604005365,\n",
    "0.979337971566636,\n",
    "0.9766137484373549,\n",
    "0.9772144560727959]"
   ]
  },
  {
   "cell_type": "code",
   "execution_count": null,
   "id": "bfdac60b",
   "metadata": {},
   "outputs": [],
   "source": [
    "HL = np.array(emp)*np.array(total_pop)"
   ]
  },
  {
   "cell_type": "raw",
   "id": "1fb69ee6",
   "metadata": {},
   "source": [
    "xx = Herd10000_herd-Herd500_herd\n",
    "for t in range(6):\n",
    "    print('time,',t)\n",
    "    for x in range(26):\n",
    "        if xx[t,x]<0.0001:\n",
    "            print('Delayed',districts[x],'Herd obj',HL[x])\n",
    "        elif xx[t,x]>0.0001:\n",
    "            print('Prioritized',districts[x],'Herd obj',HL[x])\n",
    "        "
   ]
  },
  {
   "cell_type": "code",
   "execution_count": null,
   "id": "37643f80",
   "metadata": {
    "scrolled": false
   },
   "outputs": [],
   "source": [
    "score = 0\n",
    "groupedz = dfzrand.groupby(['i', 'j','k'])\n",
    "resultsz = groupedz.sum()\n",
    "groupedy = dfyrand.groupby(['i', 'j'])\n",
    "resultsy = groupedy.sum()\n",
    "for i in range(26):\n",
    "    for j in range(26):\n",
    "        score += resultsy['value'][(i,j)]*(2*travel_time[i][j])\n",
    "        for k in range(26):     \n",
    "            score += resultsz['value'][(i,j,k)]*D[i][j][k]\n",
    "print(score)\n",
    "ics = score.copy()"
   ]
  },
  {
   "cell_type": "raw",
   "id": "86c099e1",
   "metadata": {},
   "source": [
    "score = 0\n",
    "for t in range(6):\n",
    "    for i in range(26):\n",
    "        for j in range(26):\n",
    "            y_v = dfyrand[dfyrand.i==i]\n",
    "            y_v = y_v[y_v.j==j]\n",
    "            y_v = y_v[y_v.t==t]\n",
    "            if len(y_v)!=1:\n",
    "                print(y_v)\n",
    "            y_v = y_v.value.values[0]\n",
    "            score += y_v*(2*travel_time[i][j])\n",
    "            for k in range(26):\n",
    "                z_v = dfzrand[dfzrand.i==i]\n",
    "                z_v = z_v[z_v.j==j]\n",
    "                z_v = z_v[z_v.k==k]\n",
    "                z_v = z_v[z_v.t==t]\n",
    "                if len(z_v)!=1:\n",
    "                    print(z_v)\n",
    "                z_v = z_v.value.values[0]\n",
    "                score += z_v*D[i][j][k]"
   ]
  },
  {
   "cell_type": "raw",
   "id": "d5090db5",
   "metadata": {},
   "source": [
    "score=244015174.24333337 #80% herd\n",
    "score=147803946.7933333\n",
    "score=316085984.01666695 #60% herd\n",
    "score=311653812.5000001 #100% herd"
   ]
  },
  {
   "cell_type": "raw",
   "id": "65ac0d45",
   "metadata": {},
   "source": [
    "markdown_content = f\"\"\"\n",
    "Solutions with 5 vaccination sites : \n",
    "\n",
    "| Model   | Solutions | travel objective      |\n",
    "|--------|-----|-----------|\n",
    "| base   | {districts[dfxbase[dfxbase.value==1].i.values[0]]}, {districts[dfxbase[dfxbase.value==1].i.values[1]]}, {districts[dfxbase[dfxbase.value==1].i.values[2]]},{districts[dfxbase[dfxbase.value==1].i.values[3]]}, {districts[dfxbase[dfxbase.value==1].i.values[4]]},{districts[dfxbaset[dfxbaset.value==1].i.values[5]]}| 2.98947e+08  |\n",
    "| base +time  | {districts[dfxbaset[dfxbaset.value==1].i.values[0]]}, {districts[dfxbaset[dfxbaset.value==1].i.values[1]]}, {districts[dfxbaset[dfxbaset.value==1].i.values[2]]},{districts[dfxbaset[dfxbaset.value==1].i.values[3]]}, {districts[dfxbaset[dfxbaset.value==1].i.values[4]]},{districts[dfxbaset[dfxbaset.value==1].i.values[5]]}| 3.33309e+08  |\n",
    "| base+od   | {districts[dfxod[dfxod.value==1].i.values[0]]}, {districts[dfxod[dfxod.value==1].i.values[1]]}, {districts[dfxod[dfxod.value==1].i.values[2]]}, {districts[dfxod[dfxod.value==1].i.values[3]]}, {districts[dfxod[dfxod.value==1].i.values[4]]},{districts[dfxbaset[dfxbaset.value==1].i.values[5]]} | 2.15273e+08   |\n",
    "| base+od+time(6 periods)   | {districts[dfxodt[dfxodt.value==1].i.values[0]]}, {districts[dfxodt[dfxodt.value==1].i.values[1]]}, {districts[dfxodt[dfxodt.value==1].i.values[2]]}, {districts[dfxodt[dfxodt.value==1].i.values[3]]}, {districts[dfxodt[dfxodt.value==1].i.values[4]]},{districts[dfxbaset[dfxbaset.value==1].i.values[5]]}  | 2.44014e+08     |\n",
    "| base+time(6 periods)+herd imunnity (80%)  | {districts[dfxbasetherd[dfxbasetherd.value==1].i.values[0]]}, {districts[dfxbasetherd[dfxbasetherd.value==1].i.values[1]]}, {districts[dfxbasetherd[dfxbasetherd.value==1].i.values[2]]}, {districts[dfxbasetherd[dfxbasetherd.value==1].i.values[3]]}, {districts[dfxbasetherd[dfxbasetherd.value==1].i.values[4]]}  | 3.33369e+08     |\n",
    "| base+od+time(6 periods)+herd imunnity (80%)   | {districts[dfxherd[dfxherd.value==1].i.values[0]]}, {districts[dfxherd[dfxherd.value==1].i.values[1]]}, {districts[dfxherd[dfxherd.value==1].i.values[2]]}, {districts[dfxherd[dfxherd.value==1].i.values[3]]}, {districts[dfxherd[dfxherd.value==1].i.values[4]]}  | 2.44014e+08     |\n",
    "| base+od+time(6 periods)+herd imunnity (60%)   | {districts[dfxrand[dfxrand.value==1].i.values[0]]}, {districts[dfxrand[dfxrand.value==1].i.values[1]]}, {districts[dfxrand[dfxrand.value==1].i.values[2]]}, {districts[dfxrand[dfxrand.value==1].i.values[3]]}, {districts[dfxrand[dfxrand.value==1].i.values[4]]}, {districts[dfxrand[dfxrand.value==1].i.values[4]]}  | 2.44015e+08     |\n",
    "\n",
    "\"\"\"\n",
    "\n",
    "from IPython.display import Markdown\n",
    "display(Markdown(markdown_content))"
   ]
  },
  {
   "cell_type": "markdown",
   "id": "be8f4581",
   "metadata": {},
   "source": [
    "# Base model + OD + 6 periods + 60% herd imunity"
   ]
  },
  {
   "cell_type": "code",
   "execution_count": null,
   "id": "b5b3a244",
   "metadata": {},
   "outputs": [],
   "source": [
    "'''\n",
    "flow_matrix = np.zeros((26,26,6))\n",
    "flow_matrix_od = np.zeros((26,26,26,6))\n",
    "for t in range(6):\n",
    "    for i in range(26):\n",
    "        for j in range(26):\n",
    "            new = dfyrand[dfyrand['i']==i]\n",
    "            new = new[new['j']==j]\n",
    "            new = new[new['t']==t]\n",
    "            flow_matrix[i,j,t] = sum(new.value)\n",
    "            for k in range(26):\n",
    "                new2 = dfzrand[dfzrand['i']==i]\n",
    "                new2 = new2[new2['j']==j]\n",
    "                new2 = new2[new2['k']==k]\n",
    "                new2 = new2[new2['t']==t]\n",
    "                flow_matrix_od[i,j,k,t] = sum(new2.value)\n",
    "'''\n",
    "flow_matrix = np.zeros((26,26,6))\n",
    "flow_matrix_od = np.zeros((26,26,26,6))\n",
    "groupedz = dfzrand.groupby(['t','i', 'j','k'])\n",
    "resultsz = groupedz.sum()\n",
    "groupedy = dfyrand.groupby(['t','i', 'j'])\n",
    "resultsy = groupedy.sum()\n",
    "for t in range(6):\n",
    "    for i in range(26):\n",
    "        for j in range(26):\n",
    "            flow_matrix[i,j,t] = resultsy['value'][(t,i,j)]\n",
    "            for k in range(26):     \n",
    "                flow_matrix_od[i,j,k,t] = resultsz['value'][(t,i,j,k)]\n",
    "sites = list(dfxrand[dfxrand.value==1].i)\n",
    "\n",
    "indices = np.arange(len(districts))\n",
    "index_names = [districts[i] for i in indices]\n",
    "categories = []\n",
    "values = np.zeros((5,6))\n",
    "sites_map = {}\n",
    "count = 0\n",
    "for site in sites:\n",
    "    print(districts[site])\n",
    "    sites_map[site]=count\n",
    "    count+=1\n",
    "    categories.append(districts[site])\n",
    "    #print(np.sum(flow_matrix[:,site,:])+np.sum(flow_matrix_od[:,:,site,:]))\n",
    "    #values.append(np.sum(flow_matrix[:,site,:])+np.sum(flow_matrix_od[:,:,site,:]))\n",
    "print('more smooth')"
   ]
  },
  {
   "cell_type": "code",
   "execution_count": null,
   "id": "5d16a1be",
   "metadata": {},
   "outputs": [],
   "source": [
    "flow_matrix1 = np.zeros((26,26,6))\n",
    "flow_matrix_od1 = np.zeros((26,26,26,6))\n",
    "groupedz = dfzrand.groupby(['t','i', 'j','k'])\n",
    "resultsz = groupedz.sum()\n",
    "groupedy = dfyrand.groupby(['t','i', 'j'])\n",
    "resultsy = groupedy.sum()\n",
    "for t in range(6):\n",
    "    for i in range(26):\n",
    "        for j in range(26):\n",
    "            flow_matrix1[i,j,t] = resultsy['value'][(t,i,j)]\n",
    "            for k in range(26):     \n",
    "                flow_matrix_od1[i,j,k,t] = resultsz['value'][(t,i,j,k)]\n",
    "\n"
   ]
  },
  {
   "cell_type": "code",
   "execution_count": null,
   "id": "298ccde6",
   "metadata": {},
   "outputs": [],
   "source": [
    "np.sum(flow_matrix_od1-flow_matrix_od)"
   ]
  },
  {
   "cell_type": "code",
   "execution_count": null,
   "id": "36d6229b",
   "metadata": {},
   "outputs": [],
   "source": [
    "#print(np.where(flow_matrix[0]>0)[0][0])\n",
    "first = 0\n",
    "second = 0\n",
    "third = 0\n",
    "fourth = 0\n",
    "fifth = 0\n",
    "for site in list(districts.keys()):\n",
    "    candiates = travel_time[site,:].copy()\n",
    "    for vac_site in sites:\n",
    "        candiates[vac_site] -= 1000\n",
    "    sorted_indices = np.argsort(candiates)\n",
    "    index1 = sorted_indices[0]\n",
    "    index2 = sorted_indices[1]\n",
    "    index3 = sorted_indices[2]\n",
    "    index4 = sorted_indices[4]\n",
    "    index5 = sorted_indices[5]\n",
    "    percentage = 100*np.sum(flow_matrix[site,index1,:])/np.sum(flow_matrix[site])\n",
    "    values[0,sites_map[index1]] += np.sum(flow_matrix[site,index1,:])\n",
    "    values[1,sites_map[index2]] += np.sum(flow_matrix[site,index2,:])\n",
    "    values[2,sites_map[index3]] += np.sum(flow_matrix[site,index3,:])\n",
    "    values[3,sites_map[index4]] += np.sum(flow_matrix[site,index4,:])\n",
    "    values[4,sites_map[index5]] += np.sum(flow_matrix[site,index5,:])\n",
    "    percentage2 = 100*np.sum(flow_matrix[site,index2,:])/np.sum(flow_matrix[site])\n",
    "    percentage3 = 100*np.sum(flow_matrix[site,index3,:])/np.sum(flow_matrix[site])\n",
    "    first += np.sum(flow_matrix[site,index1,:])\n",
    "    second += np.sum(flow_matrix[site,index2,:])\n",
    "    third += np.sum(flow_matrix[site,index3,:])\n",
    "    fourth += np.sum(flow_matrix[site,index4,:])\n",
    "    fifth += np.sum(flow_matrix[site,index5,:])\n",
    "    if percentage>100:\n",
    "        print(districts[site])\n",
    "        print(site)\n",
    "        #print('preferred',districts[np.argmin(travel_time[site,:])])\n",
    "        #print('actual',districts[np.where(flow_matrix[site]>0)[0][0]])\n",
    "        print(percentage,'% go to closest vaccination site')\n",
    "        print(percentage2,'% go to second closest vaccination site')\n",
    "        print(percentage3,'% go to third closest vaccination site')\n"
   ]
  },
  {
   "cell_type": "code",
   "execution_count": null,
   "id": "1fb6bf78",
   "metadata": {},
   "outputs": [],
   "source": [
    "with open(\"data/travel_time.pkl\", \"rb\") as file:\n",
    "    c_m_v = pickle.load(file)"
   ]
  },
  {
   "cell_type": "code",
   "execution_count": null,
   "id": "25bb38ce",
   "metadata": {},
   "outputs": [],
   "source": [
    "first_od = 0\n",
    "second_od = 0\n",
    "third_od = 0\n",
    "fourth_od = 0\n",
    "fifth_od = 0\n",
    "first_odo = 0\n",
    "second_odo = 0\n",
    "third_odo = 0\n",
    "fourth_odo = 0\n",
    "fifth_odo = 0\n",
    "first_odd = 0\n",
    "second_odd = 0\n",
    "third_odd = 0\n",
    "fourth_odd = 0\n",
    "fifth_odd = 0\n",
    "for site in list(districts.keys()):\n",
    "    for site2 in list(districts.keys()):\n",
    "        candiates2 = D[site,site2,:].copy()\n",
    "        candiates2[site] = -1\n",
    "        for vac_site in sites:\n",
    "            candiates2[vac_site] -= 1000\n",
    "        sorted_indices = np.argsort(candiates2)\n",
    "        index1 = sorted_indices[0]\n",
    "        index2 = sorted_indices[1]\n",
    "        index3 = sorted_indices[2]\n",
    "        index4 = sorted_indices[3]\n",
    "        index5 = sorted_indices[4]\n",
    "        if np.sum(flow_matrix_od[site,site2])>0:\n",
    "            percentage_route = 100*(np.sum(flow_matrix_od[site,site2,index1]))/np.sum(flow_matrix_od[site,site2])\n",
    "        else:\n",
    "            percentage_route = 100\n",
    "        if np.sum(flow_matrix_od[site,site2])>0:\n",
    "            percentage_route2 = 100*(np.sum(flow_matrix_od[site,site2,index2]))/np.sum(flow_matrix_od[site,site2])\n",
    "        else:\n",
    "            percentage_route2 = 100\n",
    "        if np.sum(flow_matrix_od[site,site2])>0:\n",
    "            percentage_route3 = 100*(np.sum(flow_matrix_od[site,site2,index3]))/np.sum(flow_matrix_od[site,site2])\n",
    "        else:\n",
    "            percentage_route3 = 100  \n",
    "        if np.sum(flow_matrix_od[site,site2])>0:\n",
    "            percentage_route4 = 100*(np.sum(flow_matrix_od[site,site2,index4]))/np.sum(flow_matrix_od[site,site2])\n",
    "        else:\n",
    "            percentage_route4 = 100 \n",
    "        if np.sum(flow_matrix_od[site,site2])>0:\n",
    "            percentage_route5 = 100*(np.sum(flow_matrix_od[site,site2,index5]))/np.sum(flow_matrix_od[site,site2])\n",
    "        else:\n",
    "            percentage_route5 = 100 \n",
    "        first_od += np.sum(flow_matrix_od[site,site2,index1])\n",
    "        if c_m_v[site,index1]<c_m_v[site2,index1]:\n",
    "            first_odo += np.sum(flow_matrix_od[site,site2,index1])\n",
    "        else:\n",
    "            first_odd += np.sum(flow_matrix_od[site,site2,index1])\n",
    "        if index2 == site2:\n",
    "            values[0,sites_map[index1]] += np.sum(flow_matrix_od[site,site2,index1])\n",
    "            values[0,sites_map[index2]] += np.sum(flow_matrix_od[site,site2,index2])\n",
    "            values[1,sites_map[index3]] += np.sum(flow_matrix_od[site,site2,index3])\n",
    "            values[2,sites_map[index4]] += np.sum(flow_matrix_od[site,site2,index4])\n",
    "            values[3,sites_map[index5]] += np.sum(flow_matrix_od[site,site2,index5])\n",
    "            first_od += np.sum(flow_matrix_od[site,site2,index2])\n",
    "            if c_m_v[site,index2]<c_m_v[site2,index2]:\n",
    "                first_odo += np.sum(flow_matrix_od[site,site2,index2])\n",
    "            else:\n",
    "                first_odd += np.sum(flow_matrix_od[site,site2,index2])\n",
    "            second_od += np.sum(flow_matrix_od[site,site2,index3])\n",
    "            if c_m_v[site,index2]<c_m_v[site2,index3]:\n",
    "                second_odo += np.sum(flow_matrix_od[site,site2,index3])\n",
    "            else:\n",
    "                second_odd += np.sum(flow_matrix_od[site,site2,index3])\n",
    "            third_od += np.sum(flow_matrix_od[site,site2,index4])\n",
    "            if c_m_v[site,index3]<c_m_v[site2,index4]:\n",
    "                third_odo += np.sum(flow_matrix_od[site,site2,index4])\n",
    "            else:\n",
    "                third_odd += np.sum(flow_matrix_od[site,site2,index4])\n",
    "            fourth_od += np.sum(flow_matrix_od[site,site2,index5])\n",
    "            if c_m_v[site,index4]<c_m_v[site2,index5]:\n",
    "                fourth_odo += np.sum(flow_matrix_od[site,site2,index5])\n",
    "            else:\n",
    "                fourth_odd += np.sum(flow_matrix_od[site,site2,index5])\n",
    "        else:\n",
    "            values[0,sites_map[index1]] += np.sum(flow_matrix_od[site,site2,index1])\n",
    "            values[1,sites_map[index2]] += np.sum(flow_matrix_od[site,site2,index2])\n",
    "            values[2,sites_map[index3]] += np.sum(flow_matrix_od[site,site2,index3])\n",
    "            values[3,sites_map[index4]] += np.sum(flow_matrix_od[site,site2,index4])\n",
    "            values[4,sites_map[index5]] += np.sum(flow_matrix_od[site,site2,index5])\n",
    "            second_od += np.sum(flow_matrix_od[site,site2,index2])\n",
    "            if c_m_v[site,index2]<c_m_v[site2,index2]:\n",
    "                second_odo += np.sum(flow_matrix_od[site,site2,index2])\n",
    "            else:\n",
    "                second_odd += np.sum(flow_matrix_od[site,site2,index2])\n",
    "            third_od += np.sum(flow_matrix_od[site,site2,index3])\n",
    "            if c_m_v[site,index3]<c_m_v[site2,index3]:\n",
    "                third_odo += np.sum(flow_matrix_od[site,site2,index3])\n",
    "            else:\n",
    "                third_odd += np.sum(flow_matrix_od[site,site2,index3])\n",
    "            fourth_od += np.sum(flow_matrix_od[site,site2,index4])\n",
    "            if c_m_v[site,index4]<c_m_v[site2,index4]:\n",
    "                fourth_odo += np.sum(flow_matrix_od[site,site2,index4])\n",
    "            else:\n",
    "                fourth_odd += np.sum(flow_matrix_od[site,site2,index4])\n",
    "            fifth_od += np.sum(flow_matrix_od[site,site2,index5])\n",
    "            if c_m_v[site,index5]<c_m_v[site2,index5]:\n",
    "                fifth_odo += np.sum(flow_matrix_od[site,site2,index5])\n",
    "            else:\n",
    "                fifth_odd += np.sum(flow_matrix_od[site,site2,index5])\n",
    "        if percentage_route>100:\n",
    "            print('OD pair '+districts[site]+' to '+districts[site2])\n",
    "            if percentage_route>0:\n",
    "                print(percentage_route,'% go to closest vaccination site')\n",
    "            if percentage_route2>0:\n",
    "                print(percentage_route2,'% go to second closest vaccination site')\n",
    "            if percentage_route3>0:\n",
    "                print(percentage_route3,'% go to third closest vaccination site')\n",
    "            if percentage_route4>0:\n",
    "                print(percentage_route4,'% go to fourth closest vaccination site')\n",
    "            if percentage_route5>0:\n",
    "                print(percentage_route5,'% go to fourth closest vaccination site')"
   ]
  },
  {
   "cell_type": "code",
   "execution_count": null,
   "id": "c96c5f89",
   "metadata": {
    "scrolled": true
   },
   "outputs": [],
   "source": [
    "#print('Overall,\\n\\n for non-communters,\\n',100*first/np.sum(flow_matrix),'% people go to closest vaccine site;\\n',100*second/np.sum(flow_matrix),'% people go to second closest vaccine site;\\n',100*third/np.sum(flow_matrix),'% people go to third closest vaccine site;\\n')\n",
    "#print('for communters,\\n',100*first_od/np.sum(flow_matrix_od),'% people go to closest vaccine site;\\n',100*second_od/np.sum(flow_matrix_od),'% people go to second closest vaccine site;\\n',100*third_od/np.sum(flow_matrix_od),'% people go to third closest vaccine site;\\n',100*fifth_od/np.sum(flow_matrix_od),'% people go to fifth closest vaccine site;\\n')\n",
    "print(100*(first+first_odo)/sum(total_pop),'% people go to closest vaccine site;')\n",
    "print(100*(first_odd)/sum(total_pop),'% people go to closest (D) vaccine site;\\n')\n",
    "print(100*(second+second_odo)/sum(total_pop),'% people go to 2nd closest vaccine site;')\n",
    "print(100*(second_odd)/sum(total_pop),'% people go to 2nd closest (D) vaccine site;\\n')\n",
    "print(100*(third+third_odo)/sum(total_pop),'% people go to 3rd closest vaccine site;')\n",
    "print(100*(third_odd)/sum(total_pop),'% people go to 3rd closest (D) vaccine site;\\n')\n",
    "print(100*(fourth+fourth_odo)/sum(total_pop),'% people go to 4th closest vaccine site;')\n",
    "print(100*(fourth_odd)/sum(total_pop),'% people go to 4th closest (D) vaccine site;\\n')\n",
    "print(100*(fifth+fifth_odo)/sum(total_pop),'% people go to 5th closest vaccine site;')\n",
    "print(100*(fifth_odd)/sum(total_pop),'% people go to 5th closest (D) vaccine site;\\n')\n",
    "(first+first_odo+first_odd)/sum(total_pop)"
   ]
  },
  {
   "cell_type": "code",
   "execution_count": null,
   "id": "e68a5ca6",
   "metadata": {},
   "outputs": [],
   "source": [
    "sum(values[1])/np.sum(values)"
   ]
  },
  {
   "cell_type": "code",
   "execution_count": null,
   "id": "4f34ccb2",
   "metadata": {},
   "outputs": [],
   "source": [
    "## plt.figure(figsize=(8, 6), dpi=300)  # Set figure size and DPI for high resolution\n",
    "\n",
    "\n",
    "plt.bar(categories, values[0], color='red')\n",
    "plt.bar(categories, values[1], bottom=values[0], color='green')\n",
    "plt.bar(categories, values[2], bottom=values[1]+values[0], color='blue')\n",
    "\n",
    "\n",
    "plt.xlabel('Mega Sites',fontsize=16)\n",
    "plt.ylabel('Number of Vaccinations',fontsize=16)\n",
    "#plt.title('Bar Plot Example')\n",
    "\n",
    "plt.xticks(rotation=45)  # Rotate the x-axis labels if needed\n",
    "plt.tight_layout()  # Adjust layout to prevent label clipping\n",
    "plt.ylim(-1, 3000000)\n",
    "plt.legend(['closest', '2nd closest', '3rd closest'])\n",
    "plt.savefig('bar_plot.png', dpi=300, bbox_inches='tight')  # Save as a high-resolution image\n"
   ]
  },
  {
   "cell_type": "code",
   "execution_count": null,
   "id": "4b5e54af",
   "metadata": {},
   "outputs": [],
   "source": [
    "196,572,213"
   ]
  },
  {
   "cell_type": "code",
   "execution_count": null,
   "id": "aea6d014",
   "metadata": {},
   "outputs": [],
   "source": [
    "lambda_ = np.array([1,2,5,10,20,50])\n",
    "total_travel = np.array([197406863,197842052,201815975,209351232,216904035,231634306])\n",
    "total_score = np.array([17451035,17500705,16948488,16352128,16523677,15900059])\n",
    "total_infection = np.array([402476,402612,403176,405431,405323,405119])\n",
    "herd_travel = np.array([197389518,197637565,201724792,209260624,215302070,229792389])\n",
    "herd_score = np.array([17302595,17257957,16666657,16257549,16209549,15547756])\n",
    "herd_infection = np.array([401215,402393,403206,405582,405384,405169])\n",
    "import matplotlib.pyplot as plt\n",
    "\n",
    "\n",
    "plt.plot(lambda_, total_travel/100000000,label='total')\n",
    "plt.plot(lambda_, herd_travel/100000000,label='herd')\n",
    "plt.xlabel(\"Lambda\")\n",
    "plt.ylabel(\"Travel Inconvinence (10e8)\")\n",
    "plt.legend()\n",
    "plt.show()"
   ]
  },
  {
   "cell_type": "code",
   "execution_count": null,
   "id": "f13c6879",
   "metadata": {},
   "outputs": [],
   "source": [
    "plt.plot(lambda_, total_score/10000000,label='total')\n",
    "plt.plot(lambda_, herd_score/10000000,label='herd')\n",
    "plt.xlabel(\"Lambda\")\n",
    "plt.ylabel(\"Cumulative unvaccinated from target(10e7)\")\n",
    "plt.legend()\n",
    "plt.show()"
   ]
  },
  {
   "cell_type": "code",
   "execution_count": null,
   "id": "3c940a19",
   "metadata": {},
   "outputs": [],
   "source": [
    "plt.plot(lambda_, total_infection/1000000,label='total')\n",
    "plt.plot(lambda_, herd_infection/1000000,label='herd')\n",
    "plt.xlabel(\"Lambda\")\n",
    "plt.ylabel(\"Cumulative unvaccinated from target(10e7)\")\n",
    "plt.legend()\n",
    "plt.show()"
   ]
  },
  {
   "cell_type": "code",
   "execution_count": null,
   "id": "7b8fcb38",
   "metadata": {},
   "outputs": [],
   "source": [
    "((2.85-2.24)*10**8)/sum(total_pop)"
   ]
  },
  {
   "cell_type": "code",
   "execution_count": null,
   "id": "61b95d30",
   "metadata": {},
   "outputs": [],
   "source": [
    "((2.85-2.24)*(10**8))"
   ]
  },
  {
   "cell_type": "code",
   "execution_count": null,
   "id": "04868d37",
   "metadata": {},
   "outputs": [],
   "source": [
    "target = emp*np.array(total_pop)\n",
    "target"
   ]
  },
  {
   "cell_type": "code",
   "execution_count": null,
   "id": "ef1fff99",
   "metadata": {},
   "outputs": [],
   "source": [
    "groupedz = dfzrand.groupby(['t', 'i'])\n",
    "resultsz = groupedz.sum()\n",
    "groupedy = dfyrand.groupby(['t', 'i'])\n",
    "resultsy = groupedy.sum()\n"
   ]
  },
  {
   "cell_type": "code",
   "execution_count": null,
   "id": "93a4613c",
   "metadata": {
    "scrolled": true
   },
   "outputs": [],
   "source": [
    "score = 0\n",
    "help_ = np.zeros(26)\n",
    "for t in range(6):\n",
    "    for i in range(26):\n",
    "        help_[i] += (resultsz['value'][(t,i)]+resultsy['value'][(t,i)])\n",
    "        score += max(0,target[i]-help_[i])\n",
    "print(score)\n",
    "print(ics)"
   ]
  },
  {
   "cell_type": "code",
   "execution_count": null,
   "id": "cb927f23",
   "metadata": {},
   "outputs": [],
   "source": [
    "16024558"
   ]
  }
 ],
 "metadata": {
  "kernelspec": {
   "display_name": "Python 3 (ipykernel)",
   "language": "python",
   "name": "python3"
  },
  "language_info": {
   "codemirror_mode": {
    "name": "ipython",
    "version": 3
   },
   "file_extension": ".py",
   "mimetype": "text/x-python",
   "name": "python",
   "nbconvert_exporter": "python",
   "pygments_lexer": "ipython3",
   "version": "3.9.13"
  },
  "varInspector": {
   "cols": {
    "lenName": 16,
    "lenType": 16,
    "lenVar": 40
   },
   "kernels_config": {
    "python": {
     "delete_cmd_postfix": "",
     "delete_cmd_prefix": "del ",
     "library": "var_list.py",
     "varRefreshCmd": "print(var_dic_list())"
    },
    "r": {
     "delete_cmd_postfix": ") ",
     "delete_cmd_prefix": "rm(",
     "library": "var_list.r",
     "varRefreshCmd": "cat(var_dic_list()) "
    }
   },
   "types_to_exclude": [
    "module",
    "function",
    "builtin_function_or_method",
    "instance",
    "_Feature"
   ],
   "window_display": false
  }
 },
 "nbformat": 4,
 "nbformat_minor": 5
}
