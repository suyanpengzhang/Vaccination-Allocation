{
 "cells": [
  {
   "cell_type": "code",
   "execution_count": 1,
   "id": "ee140cdb",
   "metadata": {},
   "outputs": [
    {
     "name": "stdout",
     "output_type": "stream",
     "text": [
      "Intel MKL WARNING: Support of Intel(R) Streaming SIMD Extensions 4.2 (Intel(R) SSE4.2) enabled only processors has been deprecated. Intel oneAPI Math Kernel Library 2025.0 will require Intel(R) Advanced Vector Extensions (Intel(R) AVX) instructions.\n",
      "Intel MKL WARNING: Support of Intel(R) Streaming SIMD Extensions 4.2 (Intel(R) SSE4.2) enabled only processors has been deprecated. Intel oneAPI Math Kernel Library 2025.0 will require Intel(R) Advanced Vector Extensions (Intel(R) AVX) instructions.\n"
     ]
    }
   ],
   "source": [
    "import gurobipy as gp\n",
    "from gurobipy import GRB\n",
    "import  numpy as np\n",
    "import pandas as pd\n",
    "import matplotlib.pyplot as plt\n",
    "from IPython.display import Markdown\n",
    "import pickle\n",
    "import matplotlib.pyplot as plt"
   ]
  },
  {
   "cell_type": "raw",
   "id": "dbbfa92f",
   "metadata": {},
   "source": [
    "!jupyter contrib nbextension install --user\n",
    "!jupyter nbextension enable varInspector/main"
   ]
  },
  {
   "cell_type": "code",
   "execution_count": 2,
   "id": "7248ed9e",
   "metadata": {},
   "outputs": [],
   "source": [
    "with open(\"travel_time.pkl\", \"rb\") as file:\n",
    "    travel_time = pickle.load(file)\n",
    "D = np.zeros((26,26,26))\n",
    "c_matrix= travel_time.copy()\n",
    "for i in range(26):\n",
    "    for j in range(26):\n",
    "        for k in range(26):\n",
    "            D[i,j,k] = min(c_matrix[i][k]+c_matrix[k][i],c_matrix[j][k]+c_matrix[k][j],c_matrix[j][k]+c_matrix[k][i]-c_matrix[j][i],c_matrix[i][k]+c_matrix[k][j]-c_matrix[i][j])\n",
    "            if D[i,j,k]<0:\n",
    "                D[i,j,k]=0"
   ]
  },
  {
   "cell_type": "code",
   "execution_count": 3,
   "id": "4f1b71d9",
   "metadata": {},
   "outputs": [],
   "source": [
    "#dfbase = pd.read_pickle('base.pkl')\n",
    "#dfbaset = pd.read_pickle('base_4time.pkl')#update\n",
    "#dfbasetherd = pd.read_pickle('vars_basecase_time_herd.pkl')\n",
    "#dfod = pd.read_pickle('base_od.pkl')\n",
    "#dfodt = pd.read_pickle('base_od_4time.pkl')#update\n",
    "#dfherd = pd.read_pickle('vars_basecase_od_time_herd.pkl')\n",
    "#dfrand = pd.read_pickle('vars_basecase_od_time_herd_case60100.pkl')\n",
    "dfrand = pd.read_pickle('base_4time_popweighted.pkl')\n",
    "\n",
    "districts = {0: 'Antelope Valley', \n",
    "             1: 'East Valley', \n",
    "             2: 'Glendale', \n",
    "             3: 'San Fernando', \n",
    "             4: 'West Valley',\n",
    "             5: 'Alhambra', \n",
    "             6: 'El Monte', \n",
    "             7: 'Foothill', \n",
    "             8: 'Pasadena', \n",
    "             9: 'Pomona',\n",
    "             10: 'Central', \n",
    "             11: 'Hollywood-Wilshire', \n",
    "             12: 'Northeast', \n",
    "             13: 'West',\n",
    "             14: 'Compton', \n",
    "             15: 'South', \n",
    "             16: 'Southeast', \n",
    "             17: 'Southwest',\n",
    "             18: 'Bellflower', \n",
    "             19: 'East Los Angeles', \n",
    "             20: 'San Antonio', \n",
    "             21: 'Whittier',\n",
    "             22: 'Harbor', \n",
    "             23: 'Inglewood', \n",
    "             24: 'Long Beach', \n",
    "             25: 'Torrance'}\n"
   ]
  },
  {
   "cell_type": "code",
   "execution_count": 4,
   "id": "8f178f70",
   "metadata": {},
   "outputs": [],
   "source": [
    "#dfxbase = dfbase[dfbase.name=='x']\n",
    "#dfybase = dfbase[dfbase.name=='y']\n",
    "#dfzbase = dfbase[dfbase.name=='z']\n",
    "#dfxbaset = dfbaset[dfbaset.name=='x']\n",
    "#dfybaset = dfbaset[dfbaset.name=='y']\n",
    "#dfzbaset = dfbaset[dfbaset.name=='z']\n",
    "#dfxbasetherd = dfbasetherd[dfbasetherd.name=='x']\n",
    "#dfybasetherd = dfbasetherd[dfbasetherd.name=='y']\n",
    "#dfzbasetherd = dfbasetherd[dfbasetherd.name=='z']\n",
    "#dfxod = dfod[dfod.name=='x']\n",
    "#dfyod = dfod[dfod.name=='y']\n",
    "#dfzod = dfod[dfod.name=='z']\n",
    "#dfxodt = dfodt[dfodt.name=='x']\n",
    "#dfyodt = dfodt[dfodt.name=='y']\n",
    "#dfzodt = dfodt[dfodt.name=='z']\n",
    "#dfxherd = dfherd[dfherd.name=='x']\n",
    "#dfyherd = dfherd[dfherd.name=='y']\n",
    "#dfzherd = dfherd[dfherd.name=='z']\n",
    "dfxrand = dfrand[dfrand.name=='x']\n",
    "dfyrand = dfrand[dfrand.name=='y']\n",
    "dfzrand = dfrand[dfrand.name=='z']"
   ]
  },
  {
   "cell_type": "code",
   "execution_count": 5,
   "id": "0a0c7bc9",
   "metadata": {},
   "outputs": [],
   "source": [
    "total_pop = [420697,443569,344450,526877,899111,339399,419797,308499,140361,547523,354750,479505,287613,666399,278815,193899,166374,379199,356465,195082,407864,321720,201739,411617,469439,465691]\n"
   ]
  },
  {
   "cell_type": "raw",
   "id": "ba6a7295",
   "metadata": {},
   "source": [
    "Base_herd = np.zeros((6,26))\n",
    "for tt in range(6):\n",
    "    for ii in range(26):\n",
    "        newy = dfybaset[dfybaset.t==tt]\n",
    "        newy = newy[newy.i==ii]\n",
    "        newz = dfzbaset[dfzbaset.t==tt]\n",
    "        newz = newz[newz.i==ii]\n",
    "        Base_herd[tt,ii] = (sum(newy.value)+sum(newz.value))/total_pop[ii]\n",
    "Od_herd = np.zeros((6,26))\n",
    "for tt in range(6):\n",
    "    for ii in range(26):\n",
    "        newy = dfyodt[dfyodt.t==tt]\n",
    "        newy = newy[newy.i==ii]\n",
    "        newz = dfzodt[dfzodt.t==tt]\n",
    "        newz = newz[newz.i==ii]\n",
    "        Od_herd[tt,ii] = (sum(newy.value)+sum(newz.value))/total_pop[ii]\n",
    "Base80_herd = np.zeros((6,26))\n",
    "for tt in range(6):\n",
    "    for ii in range(26):\n",
    "        newy = dfybasetherd[dfybasetherd.t==tt]\n",
    "        newy = newy[newy.i==ii]\n",
    "        newz = dfzbasetherd[dfzbasetherd.t==tt]\n",
    "        newz = newz[newz.i==ii]\n",
    "        Base80_herd[tt,ii] = (sum(newy.value)+sum(newz.value))/total_pop[ii]\n",
    "Herd80_herd = np.zeros((6,26))\n",
    "for tt in range(6):\n",
    "    for ii in range(26):\n",
    "        newy = dfyherd[dfyherd.t==tt]\n",
    "        newy = newy[newy.i==ii]\n",
    "        newz = dfzherd[dfzherd.t==tt]\n",
    "        newz = newz[newz.i==ii]\n",
    "        Herd80_herd[tt,ii] = (sum(newy.value)+sum(newz.value))/total_pop[ii]\n",
    "Herd60100_herd = np.zeros((6,26))\n",
    "for tt in range(6):\n",
    "    for ii in range(26):\n",
    "        newy = dfyrand[dfyrand.t==tt]\n",
    "        newy = newy[newy.i==ii]\n",
    "        newz = dfzrand[dfzrand.t==tt]\n",
    "        newz = newz[newz.i==ii]\n",
    "        Herd60100_herd[tt,ii] = (sum(newy.value)+sum(newz.value))/total_pop[ii]\n",
    "            \n"
   ]
  },
  {
   "cell_type": "raw",
   "id": "5203186b",
   "metadata": {},
   "source": [
    "for t in range(1,6):\n",
    "    Base_herd[t] += Base_herd[t-1]\n",
    "    Od_herd[t] += Od_herd[t-1]\n",
    "    Base80_herd[t] += Base80_herd[t-1]\n",
    "    Herd80_herd[t] += Herd80_herd[t-1]\n",
    "    Herd60100_herd[t] += Herd60100_herd[t-1]"
   ]
  },
  {
   "cell_type": "raw",
   "id": "16e49879",
   "metadata": {},
   "source": [
    "print(np.mean(Base_herd,1))\n",
    "print(np.mean(Od_herd,1))\n",
    "print(np.mean(Base80_herd,1))\n",
    "print(np.mean(Herd80_herd,1))\n",
    "print(np.mean(Herd60100_herd,1))"
   ]
  },
  {
   "cell_type": "raw",
   "id": "00dafb31",
   "metadata": {},
   "source": [
    "print('Base')\n",
    "print(Base_herd@np.array(total_pop))\n",
    "print('Base+OD')\n",
    "print(Od_herd@np.array(total_pop))\n",
    "print('Base+80% herd')\n",
    "print(Base80_herd@np.array(total_pop))\n",
    "print('Base+OD+80% herd')\n",
    "print(Herd80_herd@np.array(total_pop))\n",
    "print('Base+OD+random herd')\n",
    "print(Herd60100_herd@np.array(total_pop))"
   ]
  },
  {
   "cell_type": "code",
   "execution_count": null,
   "id": "d63b3139",
   "metadata": {},
   "outputs": [],
   "source": [
    "score = 0\n",
    "for t in range(6):\n",
    "    for i in range(26):\n",
    "        for j in range(26):\n",
    "            y_v = dfrand[dfrand.i==i]\n",
    "            y_v = y_v[y_v.j==j]\n",
    "            y_v = y_v[y_v.t==t]\n",
    "            y_v = y_v.value.values[0]\n",
    "            score += y_v*(2*travel_time[i][j])\n",
    "            for k in range(26):\n",
    "                z_v = dfzrand[dfzrand.i==i]\n",
    "                z_v = z_v[z_v.j==j]\n",
    "                z_v = z_v[z_v.k==k]\n",
    "                z_v = z_v[z_v.t==t]\n",
    "                z_v = z_v.value.values[0]\n",
    "                score += z_v*D[i][j][k]"
   ]
  },
  {
   "cell_type": "code",
   "execution_count": null,
   "id": "c6e75ccf",
   "metadata": {},
   "outputs": [],
   "source": [
    "score\n"
   ]
  },
  {
   "cell_type": "raw",
   "id": "d5090db5",
   "metadata": {},
   "source": [
    "score=244015174.24333337 #80% herd\n",
    "score=147803946.7933333\n",
    "score=316085984.01666695 #60% herd\n",
    "score=311653812.5000001 #100% herd"
   ]
  },
  {
   "cell_type": "raw",
   "id": "9058fc80",
   "metadata": {},
   "source": [
    "markdown_content = f\"\"\"\n",
    "Solutions with 5 vaccination sites : \n",
    "\n",
    "| Model   | Solutions | travel objective      |\n",
    "|--------|-----|-----------|\n",
    "| base   | {districts[dfxbase[dfxbase.value==1].i.values[0]]}, {districts[dfxbase[dfxbase.value==1].i.values[1]]}, {districts[dfxbase[dfxbase.value==1].i.values[2]]},{districts[dfxbase[dfxbase.value==1].i.values[3]]}, {districts[dfxbase[dfxbase.value==1].i.values[4]]},{districts[dfxbaset[dfxbaset.value==1].i.values[5]]}| 2.98947e+08  |\n",
    "| base +time  | {districts[dfxbaset[dfxbaset.value==1].i.values[0]]}, {districts[dfxbaset[dfxbaset.value==1].i.values[1]]}, {districts[dfxbaset[dfxbaset.value==1].i.values[2]]},{districts[dfxbaset[dfxbaset.value==1].i.values[3]]}, {districts[dfxbaset[dfxbaset.value==1].i.values[4]]},{districts[dfxbaset[dfxbaset.value==1].i.values[5]]}| 3.33309e+08  |\n",
    "| base+od   | {districts[dfxod[dfxod.value==1].i.values[0]]}, {districts[dfxod[dfxod.value==1].i.values[1]]}, {districts[dfxod[dfxod.value==1].i.values[2]]}, {districts[dfxod[dfxod.value==1].i.values[3]]}, {districts[dfxod[dfxod.value==1].i.values[4]]},{districts[dfxbaset[dfxbaset.value==1].i.values[5]]} | 2.15273e+08   |\n",
    "| base+od+time(6 periods)   | {districts[dfxodt[dfxodt.value==1].i.values[0]]}, {districts[dfxodt[dfxodt.value==1].i.values[1]]}, {districts[dfxodt[dfxodt.value==1].i.values[2]]}, {districts[dfxodt[dfxodt.value==1].i.values[3]]}, {districts[dfxodt[dfxodt.value==1].i.values[4]]},{districts[dfxbaset[dfxbaset.value==1].i.values[5]]}  | 2.44014e+08     |\n",
    "| base+time(6 periods)+herd imunnity (80%)  | {districts[dfxbasetherd[dfxbasetherd.value==1].i.values[0]]}, {districts[dfxbasetherd[dfxbasetherd.value==1].i.values[1]]}, {districts[dfxbasetherd[dfxbasetherd.value==1].i.values[2]]}, {districts[dfxbasetherd[dfxbasetherd.value==1].i.values[3]]}, {districts[dfxbasetherd[dfxbasetherd.value==1].i.values[4]]}  | 3.33369e+08     |\n",
    "| base+od+time(6 periods)+herd imunnity (80%)   | {districts[dfxherd[dfxherd.value==1].i.values[0]]}, {districts[dfxherd[dfxherd.value==1].i.values[1]]}, {districts[dfxherd[dfxherd.value==1].i.values[2]]}, {districts[dfxherd[dfxherd.value==1].i.values[3]]}, {districts[dfxherd[dfxherd.value==1].i.values[4]]}  | 2.44014e+08     |\n",
    "| base+od+time(6 periods)+herd imunnity (60%)   | {districts[dfxrand[dfxrand.value==1].i.values[0]]}, {districts[dfxrand[dfxrand.value==1].i.values[1]]}, {districts[dfxrand[dfxrand.value==1].i.values[2]]}, {districts[dfxrand[dfxrand.value==1].i.values[3]]}, {districts[dfxrand[dfxrand.value==1].i.values[4]]}, {districts[dfxrand[dfxrand.value==1].i.values[4]]}  | 2.44015e+08     |\n",
    "\n",
    "\"\"\"\n",
    "\n",
    "from IPython.display import Markdown\n",
    "display(Markdown(markdown_content))"
   ]
  },
  {
   "cell_type": "markdown",
   "id": "be8f4581",
   "metadata": {},
   "source": [
    "# Base model + OD + 6 periods + 60% herd imunity"
   ]
  },
  {
   "cell_type": "code",
   "execution_count": 65,
   "id": "b5b3a244",
   "metadata": {},
   "outputs": [
    {
     "name": "stdout",
     "output_type": "stream",
     "text": [
      "San Fernando\n",
      "1307132.0\n",
      "Central\n",
      "2400000.0\n",
      "Northeast\n",
      "1443596.0\n",
      "Southwest\n",
      "1355541.0\n",
      "San Antonio\n",
      "1912993.0\n",
      "Inglewood\n",
      "1607192.0\n",
      "more smooth\n"
     ]
    }
   ],
   "source": [
    "flow_matrix = np.zeros((26,26,6))\n",
    "flow_matrix_od = np.zeros((26,26,26,6))\n",
    "for t in range(6):\n",
    "    for i in range(26):\n",
    "        for j in range(26):\n",
    "            new = dfyrand[dfyrand['i']==i]\n",
    "            new = new[new['j']==j]\n",
    "            new = new[new['t']==t]\n",
    "            flow_matrix[i,j,t] = sum(new.value)\n",
    "            for k in range(26):\n",
    "                new2 = dfzrand[dfzrand['i']==i]\n",
    "                new2 = new2[new2['j']==j]\n",
    "                new2 = new2[new2['k']==k]\n",
    "                new2 = new2[new2['t']==t]\n",
    "                flow_matrix_od[i,j,k,t] = sum(new2.value)\n",
    "sites = list(dfxrand[dfxrand.value==1].i)\n",
    "\n",
    "indices = np.arange(len(districts))\n",
    "index_names = [districts[i] for i in indices]\n",
    "    \n",
    "for site in sites:\n",
    "    print(districts[site])\n",
    "    print(np.sum(flow_matrix[:,site,:])+np.sum(flow_matrix_od[:,:,site,:]))\n",
    "print('more smooth')"
   ]
  },
  {
   "cell_type": "code",
   "execution_count": 66,
   "id": "36d6229b",
   "metadata": {},
   "outputs": [],
   "source": [
    "#print(np.where(flow_matrix[0]>0)[0][0])\n",
    "first = 0\n",
    "second = 0\n",
    "third = 0\n",
    "fourth = 0\n",
    "fifth = 0\n",
    "for site in list(districts.keys()):\n",
    "    candiates = travel_time[site,:].copy()\n",
    "    for vac_site in sites:\n",
    "        candiates[vac_site] -= 1000\n",
    "    sorted_indices = np.argsort(candiates)\n",
    "    index1 = sorted_indices[0]\n",
    "    index2 = sorted_indices[1]\n",
    "    index3 = sorted_indices[2]\n",
    "    index4 = sorted_indices[4]\n",
    "    index5 = sorted_indices[5]\n",
    "    percentage = 100*np.sum(flow_matrix[site,index1,:])/np.sum(flow_matrix[site])\n",
    "    percentage2 = 100*np.sum(flow_matrix[site,index2,:])/np.sum(flow_matrix[site])\n",
    "    percentage3 = 100*np.sum(flow_matrix[site,index3,:])/np.sum(flow_matrix[site])\n",
    "    first += np.sum(flow_matrix[site,index1,:])\n",
    "    second += np.sum(flow_matrix[site,index2,:])\n",
    "    third += np.sum(flow_matrix[site,index3,:])\n",
    "    fourth += np.sum(flow_matrix[site,index4,:])\n",
    "    fifth += np.sum(flow_matrix[site,index5,:])\n",
    "    if percentage>100:\n",
    "        print(districts[site])\n",
    "        print(site)\n",
    "        #print('preferred',districts[np.argmin(travel_time[site,:])])\n",
    "        #print('actual',districts[np.where(flow_matrix[site]>0)[0][0]])\n",
    "        print(percentage,'% go to closest vaccination site')\n",
    "        print(percentage2,'% go to second closest vaccination site')\n",
    "        print(percentage3,'% go to third closest vaccination site')\n"
   ]
  },
  {
   "cell_type": "code",
   "execution_count": 67,
   "id": "1fb6bf78",
   "metadata": {},
   "outputs": [],
   "source": [
    "with open(\"travel_time.pkl\", \"rb\") as file:\n",
    "    c_m_v = pickle.load(file)"
   ]
  },
  {
   "cell_type": "code",
   "execution_count": 68,
   "id": "25bb38ce",
   "metadata": {},
   "outputs": [],
   "source": [
    "first_od = 0\n",
    "second_od = 0\n",
    "third_od = 0\n",
    "fourth_od = 0\n",
    "fifth_od = 0\n",
    "first_odo = 0\n",
    "second_odo = 0\n",
    "third_odo = 0\n",
    "fourth_odo = 0\n",
    "fifth_odo = 0\n",
    "first_odd = 0\n",
    "second_odd = 0\n",
    "third_odd = 0\n",
    "fourth_odd = 0\n",
    "fifth_odd = 0\n",
    "for site in list(districts.keys()):\n",
    "    for site2 in list(districts.keys()):\n",
    "        candiates2 = D[site,site2,:].copy()\n",
    "        candiates2[site] = -1\n",
    "        for vac_site in sites:\n",
    "            candiates2[vac_site] -= 1000\n",
    "        sorted_indices = np.argsort(candiates2)\n",
    "        index1 = sorted_indices[0]\n",
    "        index2 = sorted_indices[1]\n",
    "        index3 = sorted_indices[2]\n",
    "        index4 = sorted_indices[3]\n",
    "        index5 = sorted_indices[4]\n",
    "        if np.sum(flow_matrix_od[site,site2])>0:\n",
    "            percentage_route = 100*(np.sum(flow_matrix_od[site,site2,index1]))/np.sum(flow_matrix_od[site,site2])\n",
    "        else:\n",
    "            percentage_route = 100\n",
    "        if np.sum(flow_matrix_od[site,site2])>0:\n",
    "            percentage_route2 = 100*(np.sum(flow_matrix_od[site,site2,index2]))/np.sum(flow_matrix_od[site,site2])\n",
    "        else:\n",
    "            percentage_route2 = 100\n",
    "        if np.sum(flow_matrix_od[site,site2])>0:\n",
    "            percentage_route3 = 100*(np.sum(flow_matrix_od[site,site2,index3]))/np.sum(flow_matrix_od[site,site2])\n",
    "        else:\n",
    "            percentage_route3 = 100  \n",
    "        if np.sum(flow_matrix_od[site,site2])>0:\n",
    "            percentage_route4 = 100*(np.sum(flow_matrix_od[site,site2,index4]))/np.sum(flow_matrix_od[site,site2])\n",
    "        else:\n",
    "            percentage_route4 = 100 \n",
    "        if np.sum(flow_matrix_od[site,site2])>0:\n",
    "            percentage_route5 = 100*(np.sum(flow_matrix_od[site,site2,index5]))/np.sum(flow_matrix_od[site,site2])\n",
    "        else:\n",
    "            percentage_route5 = 100 \n",
    "        first_od += np.sum(flow_matrix_od[site,site2,index1])\n",
    "        if c_m_v[site,index1]<c_m_v[site2,index1]:\n",
    "            first_odo += np.sum(flow_matrix_od[site,site2,index1])\n",
    "        else:\n",
    "            first_odd += np.sum(flow_matrix_od[site,site2,index1])\n",
    "        if index2 in sites:\n",
    "            first_od += np.sum(flow_matrix_od[site,site2,index2])\n",
    "            if c_m_v[site,index2]<c_m_v[site2,index2]:\n",
    "                first_odo += np.sum(flow_matrix_od[site,site2,index2])\n",
    "            else:\n",
    "                first_odd += np.sum(flow_matrix_od[site,site2,index2])\n",
    "            second_od += np.sum(flow_matrix_od[site,site2,index3])\n",
    "            if c_m_v[site,index2]<c_m_v[site2,index3]:\n",
    "                second_odo += np.sum(flow_matrix_od[site,site2,index3])\n",
    "            else:\n",
    "                second_odd += np.sum(flow_matrix_od[site,site2,index3])\n",
    "            third_od += np.sum(flow_matrix_od[site,site2,index4])\n",
    "            if c_m_v[site,index3]<c_m_v[site2,index4]:\n",
    "                third_odo += np.sum(flow_matrix_od[site,site2,index4])\n",
    "            else:\n",
    "                third_odd += np.sum(flow_matrix_od[site,site2,index4])\n",
    "            fourth_od += np.sum(flow_matrix_od[site,site2,index5])\n",
    "            if c_m_v[site,index4]<c_m_v[site2,index5]:\n",
    "                fourth_odo += np.sum(flow_matrix_od[site,site2,index5])\n",
    "            else:\n",
    "                fourth_odd += np.sum(flow_matrix_od[site,site2,index5])\n",
    "        else:\n",
    "            second_od += np.sum(flow_matrix_od[site,site2,index2])\n",
    "            if c_m_v[site,index2]<c_m_v[site2,index2]:\n",
    "                second_odo += np.sum(flow_matrix_od[site,site2,index2])\n",
    "            else:\n",
    "                second_odd += np.sum(flow_matrix_od[site,site2,index2])\n",
    "            third_od += np.sum(flow_matrix_od[site,site2,index3])\n",
    "            if c_m_v[site,index3]<c_m_v[site2,index3]:\n",
    "                third_odo += np.sum(flow_matrix_od[site,site2,index3])\n",
    "            else:\n",
    "                third_odd += np.sum(flow_matrix_od[site,site2,index3])\n",
    "            fourth_od += np.sum(flow_matrix_od[site,site2,index4])\n",
    "            if c_m_v[site,index4]<c_m_v[site2,index4]:\n",
    "                fourth_odo += np.sum(flow_matrix_od[site,site2,index4])\n",
    "            else:\n",
    "                fourth_odd += np.sum(flow_matrix_od[site,site2,index4])\n",
    "            fifth_od += np.sum(flow_matrix_od[site,site2,index5])\n",
    "            if c_m_v[site,index5]<c_m_v[site2,index5]:\n",
    "                fifth_odo += np.sum(flow_matrix_od[site,site2,index5])\n",
    "            else:\n",
    "                fifth_odd += np.sum(flow_matrix_od[site,site2,index5])\n",
    "        if percentage_route>100:\n",
    "            print('OD pair '+districts[site]+' to '+districts[site2])\n",
    "            if percentage_route>0:\n",
    "                print(percentage_route,'% go to closest vaccination site')\n",
    "            if percentage_route2>0:\n",
    "                print(percentage_route2,'% go to second closest vaccination site')\n",
    "            if percentage_route3>0:\n",
    "                print(percentage_route3,'% go to third closest vaccination site')\n",
    "            if percentage_route4>0:\n",
    "                print(percentage_route4,'% go to fourth closest vaccination site')\n",
    "            if percentage_route5>0:\n",
    "                print(percentage_route5,'% go to fourth closest vaccination site')"
   ]
  },
  {
   "cell_type": "code",
   "execution_count": 69,
   "id": "c96c5f89",
   "metadata": {},
   "outputs": [
    {
     "name": "stdout",
     "output_type": "stream",
     "text": [
      "70.90141739043534 % people go to closest vaccine site;\n",
      "22.700308603619984 % people go to closest (D) vaccine site;\n",
      "\n",
      "4.253228509301493 % people go to 2nd closest vaccine site;\n",
      "0.0 % people go to 2nd closest (D) vaccine site;\n",
      "\n",
      "2.14504549664318 % people go to 3rd closest vaccine site;\n",
      "0.0 % people go to 3rd closest (D) vaccine site;\n",
      "\n",
      "0.0 % people go to 4th closest vaccine site;\n",
      "0.0 % people go to 4th closest (D) vaccine site;\n",
      "\n",
      "0.0 % people go to 5th closest vaccine site;\n",
      "0.0 % people go to 5th closest (D) vaccine site;\n",
      "\n"
     ]
    }
   ],
   "source": [
    "#print('Overall,\\n\\n for non-communters,\\n',100*first/np.sum(flow_matrix),'% people go to closest vaccine site;\\n',100*second/np.sum(flow_matrix),'% people go to second closest vaccine site;\\n',100*third/np.sum(flow_matrix),'% people go to third closest vaccine site;\\n')\n",
    "#print('for communters,\\n',100*first_od/np.sum(flow_matrix_od),'% people go to closest vaccine site;\\n',100*second_od/np.sum(flow_matrix_od),'% people go to second closest vaccine site;\\n',100*third_od/np.sum(flow_matrix_od),'% people go to third closest vaccine site;\\n',100*fifth_od/np.sum(flow_matrix_od),'% people go to fifth closest vaccine site;\\n')\n",
    "print(100*(first+first_odo)/sum(total_pop),'% people go to closest vaccine site;')\n",
    "print(100*(first_odd)/sum(total_pop),'% people go to closest (D) vaccine site;\\n')\n",
    "print(100*(second+second_odo)/sum(total_pop),'% people go to 2nd closest vaccine site;')\n",
    "print(100*(second_odd)/sum(total_pop),'% people go to 2nd closest (D) vaccine site;\\n')\n",
    "print(100*(third+third_odo)/sum(total_pop),'% people go to 3rd closest vaccine site;')\n",
    "print(100*(third_odd)/sum(total_pop),'% people go to 3rd closest (D) vaccine site;\\n')\n",
    "print(100*(fourth+fourth_odo)/sum(total_pop),'% people go to 4th closest vaccine site;')\n",
    "print(100*(fourth_odd)/sum(total_pop),'% people go to 4th closest (D) vaccine site;\\n')\n",
    "print(100*(fifth+fifth_odo)/sum(total_pop),'% people go to 5th closest vaccine site;')\n",
    "print(100*(fifth_odd)/sum(total_pop),'% people go to 5th closest (D) vaccine site;\\n')\n"
   ]
  },
  {
   "cell_type": "markdown",
   "id": "7809189d",
   "metadata": {},
   "source": [
    "# Base + Time"
   ]
  },
  {
   "cell_type": "code",
   "execution_count": 118,
   "id": "9b8b21c8",
   "metadata": {},
   "outputs": [
    {
     "name": "stdout",
     "output_type": "stream",
     "text": [
      "West Valley\n",
      "1846685.0\n",
      "El Monte\n",
      "2120099.0\n",
      "Central\n",
      "2159999.999999999\n",
      "Bellflower\n",
      "1782865.0\n",
      "Inglewood\n",
      "2116805.0\n",
      "more smooth\n"
     ]
    }
   ],
   "source": [
    "flow_matrix = np.zeros((26,26,6))\n",
    "for t in range(6):\n",
    "    for i in range(26):\n",
    "        for j in range(26):\n",
    "            new = dfybasetherd[dfybasetherd['i']==i]\n",
    "            new = new[new['j']==j]\n",
    "            new = new[new['t']==t]\n",
    "            flow_matrix[i,j,t] = sum(new.value)\n",
    "sites = list(dfxbasetherd[dfxbasetherd.value==1].i)\n",
    "\n",
    "indices = np.arange(len(districts))\n",
    "index_names = [districts[i] for i in indices]\n",
    "    \n",
    "for site in sites:\n",
    "    print(districts[site])\n",
    "    print(np.sum(flow_matrix[:,site,:]))\n",
    "print('more smooth')"
   ]
  },
  {
   "cell_type": "code",
   "execution_count": 119,
   "id": "92042362",
   "metadata": {},
   "outputs": [
    {
     "name": "stdout",
     "output_type": "stream",
     "text": [
      "Antelope Valley\n",
      "0\n",
      "0.0 % go to closest vaccination site\n",
      "100.0 % go to second closest vaccination site\n",
      "0.0 % go to third closest vaccination site\n",
      "San Fernando\n",
      "3\n",
      "0.0 % go to closest vaccination site\n",
      "100.0 % go to second closest vaccination site\n",
      "0.0 % go to third closest vaccination site\n",
      "Northeast\n",
      "12\n",
      "80.31312910056221 % go to closest vaccination site\n",
      "19.686870899437785 % go to second closest vaccination site\n",
      "0.0 % go to third closest vaccination site\n",
      "Whittier\n",
      "21\n",
      "78.69482780057193 % go to closest vaccination site\n",
      "21.305172199428075 % go to second closest vaccination site\n",
      "0.0 % go to third closest vaccination site\n"
     ]
    }
   ],
   "source": [
    "#print(np.where(flow_matrix[0]>0)[0][0])\n",
    "first = 0\n",
    "second = 0\n",
    "third = 0\n",
    "for site in list(districts.keys()):\n",
    "    candiates = travel_time[site,:].copy()\n",
    "    for vac_site in sites:\n",
    "        candiates[vac_site] -= 1000\n",
    "    sorted_indices = np.argsort(candiates)\n",
    "    index1 = sorted_indices[0]\n",
    "    index2 = sorted_indices[1]\n",
    "    index3 = sorted_indices[2]\n",
    "    percentage = 100*np.sum(flow_matrix[site,index1,:])/np.sum(flow_matrix[site])\n",
    "    percentage2 = 100*np.sum(flow_matrix[site,index2,:])/np.sum(flow_matrix[site])\n",
    "    percentage3 = 100*np.sum(flow_matrix[site,index3,:])/np.sum(flow_matrix[site])\n",
    "    first += np.sum(flow_matrix[site,index1,:])\n",
    "    second += np.sum(flow_matrix[site,index2,:])\n",
    "    third += np.sum(flow_matrix[site,index3,:])\n",
    "    if percentage<100:\n",
    "        print(districts[site])\n",
    "        print(site)\n",
    "        #print('preferred',districts[np.argmin(travel_time[site,:])])\n",
    "        #print('actual',districts[np.where(flow_matrix[site]>0)[0][0]])\n",
    "        print(percentage,'% go to closest vaccination site')\n",
    "        print(percentage2,'% go to second closest vaccination site')\n",
    "        print(percentage3,'% go to third closest vaccination site')\n"
   ]
  },
  {
   "cell_type": "code",
   "execution_count": 34,
   "id": "63d50f5b",
   "metadata": {},
   "outputs": [
    {
     "name": "stdout",
     "output_type": "stream",
     "text": [
      "Overall,\n",
      "\n",
      " for non-communters,\n",
      " 91.13387994773612 % people go to closest vaccine site;\n",
      " 8.866120052263874 % people go to second closest vaccine site;\n",
      " 0.0 % people go to third closest vaccine site;\n",
      "\n"
     ]
    }
   ],
   "source": [
    "print('Overall,\\n\\n for non-communters,\\n',100*first/np.sum(flow_matrix),'% people go to closest vaccine site;\\n',100*second/np.sum(flow_matrix),'% people go to second closest vaccine site;\\n',100*third/np.sum(flow_matrix),'% people go to third closest vaccine site;\\n')\n"
   ]
  },
  {
   "cell_type": "code",
   "execution_count": 40,
   "id": "5efef7ac",
   "metadata": {},
   "outputs": [
    {
     "data": {
      "text/plain": [
       "0.0"
      ]
     },
     "execution_count": 40,
     "metadata": {},
     "output_type": "execute_result"
    }
   ],
   "source": [
    "(fourth_od)/(np.sum(flow_matrix)+np.sum(flow_matrix_od))"
   ]
  },
  {
   "cell_type": "code",
   "execution_count": 115,
   "id": "5e5a1755",
   "metadata": {},
   "outputs": [
    {
     "data": {
      "text/plain": [
       "10026454.0"
      ]
     },
     "execution_count": 115,
     "metadata": {},
     "output_type": "execute_result"
    }
   ],
   "source": [
    "np.sum(flow_matrix)"
   ]
  },
  {
   "cell_type": "code",
   "execution_count": 83,
   "id": "e21e642d",
   "metadata": {},
   "outputs": [
    {
     "data": {
      "text/plain": [
       "8727181.0"
      ]
     },
     "execution_count": 83,
     "metadata": {},
     "output_type": "execute_result"
    }
   ],
   "source": [
    "first_od+first"
   ]
  },
  {
   "cell_type": "code",
   "execution_count": 84,
   "id": "99a53207",
   "metadata": {},
   "outputs": [
    {
     "data": {
      "text/plain": [
       "6078386.0"
      ]
     },
     "execution_count": 84,
     "metadata": {},
     "output_type": "execute_result"
    }
   ],
   "source": [
    "np.sum(flow_matrix)"
   ]
  },
  {
   "cell_type": "code",
   "execution_count": 85,
   "id": "abbad3b3",
   "metadata": {},
   "outputs": [
    {
     "data": {
      "text/plain": [
       "3948068.0"
      ]
     },
     "execution_count": 85,
     "metadata": {},
     "output_type": "execute_result"
    }
   ],
   "source": [
    "np.sum(flow_matrix_od)"
   ]
  },
  {
   "cell_type": "code",
   "execution_count": null,
   "id": "aea6d014",
   "metadata": {},
   "outputs": [],
   "source": []
  }
 ],
 "metadata": {
  "kernelspec": {
   "display_name": "Python 3 (ipykernel)",
   "language": "python",
   "name": "python3"
  },
  "language_info": {
   "codemirror_mode": {
    "name": "ipython",
    "version": 3
   },
   "file_extension": ".py",
   "mimetype": "text/x-python",
   "name": "python",
   "nbconvert_exporter": "python",
   "pygments_lexer": "ipython3",
   "version": "3.9.13"
  },
  "varInspector": {
   "cols": {
    "lenName": 16,
    "lenType": 16,
    "lenVar": 40
   },
   "kernels_config": {
    "python": {
     "delete_cmd_postfix": "",
     "delete_cmd_prefix": "del ",
     "library": "var_list.py",
     "varRefreshCmd": "print(var_dic_list())"
    },
    "r": {
     "delete_cmd_postfix": ") ",
     "delete_cmd_prefix": "rm(",
     "library": "var_list.r",
     "varRefreshCmd": "cat(var_dic_list()) "
    }
   },
   "types_to_exclude": [
    "module",
    "function",
    "builtin_function_or_method",
    "instance",
    "_Feature"
   ],
   "window_display": false
  }
 },
 "nbformat": 4,
 "nbformat_minor": 5
}
