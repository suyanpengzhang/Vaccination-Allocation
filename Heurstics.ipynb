{
 "cells": [
  {
   "cell_type": "code",
   "execution_count": 13,
   "id": "a45f9655",
   "metadata": {},
   "outputs": [],
   "source": [
    "import numpy as np\n",
    "import networkx as nx\n",
    "import pandas as pd\n",
    "import pickle"
   ]
  },
  {
   "cell_type": "code",
   "execution_count": 2,
   "id": "cddcbda6",
   "metadata": {},
   "outputs": [
    {
     "name": "stderr",
     "output_type": "stream",
     "text": [
      "/var/folders/b3/kkdtnh4d4gjgrk45d_yrf4100000gn/T/ipykernel_95966/460112638.py:7: RuntimeWarning: divide by zero encountered in divide\n",
      "  value = 1/value\n"
     ]
    }
   ],
   "source": [
    "od_flow = pd.read_csv('mean_df_20210224_20210424.csv')\n",
    "#value is the od matrix\n",
    "value = od_flow.values[0:-1,1:-1]\n",
    "value =np.array([np.array([float(i) for i in j ])for j in value])\n",
    "actualcommunter_scaler = 4753898/np.sum(value)\n",
    "value = value*actualcommunter_scaler\n",
    "value = 1/value"
   ]
  },
  {
   "cell_type": "code",
   "execution_count": 3,
   "id": "c0b41716",
   "metadata": {},
   "outputs": [],
   "source": [
    "G = nx.from_numpy_matrix(value)"
   ]
  },
  {
   "cell_type": "code",
   "execution_count": 4,
   "id": "e4f57435",
   "metadata": {},
   "outputs": [],
   "source": [
    "v = nx.betweenness_centrality(G, weight= 'weight')"
   ]
  },
  {
   "cell_type": "code",
   "execution_count": 11,
   "id": "90eb1202",
   "metadata": {},
   "outputs": [],
   "source": [
    "weights_bc = list(v.values())"
   ]
  },
  {
   "cell_type": "code",
   "execution_count": 15,
   "id": "455aec1e",
   "metadata": {},
   "outputs": [],
   "source": [
    "with open('weights_bc.pkl', 'wb') as file:\n",
    "    pickle.dump(weights_bc, file)"
   ]
  },
  {
   "cell_type": "code",
   "execution_count": 16,
   "id": "cce74947",
   "metadata": {},
   "outputs": [],
   "source": [
    "od_flow = pd.read_csv('mean_df_20210224_20210424.csv')\n",
    "#value is the od matrix\n",
    "value = od_flow.values[0:-1,1:-1]\n",
    "value =np.array([np.array([float(i) for i in j ])for j in value])\n",
    "actualcommunter_scaler = 4753898/np.sum(value)\n",
    "value = value*actualcommunter_scaler"
   ]
  },
  {
   "cell_type": "code",
   "execution_count": 17,
   "id": "90739818",
   "metadata": {},
   "outputs": [],
   "source": [
    "from numpy import linalg as LA\n",
    "eigenvalues, eigenvectors = LA.eig(value)"
   ]
  },
  {
   "cell_type": "code",
   "execution_count": 24,
   "id": "c61746b8",
   "metadata": {},
   "outputs": [],
   "source": [
    "weights_eig = 1/(np.argsort(eigenvalues)+1)"
   ]
  },
  {
   "cell_type": "code",
   "execution_count": 26,
   "id": "8fdbc3c7",
   "metadata": {},
   "outputs": [],
   "source": [
    "with open('weights_eig.pkl', 'wb') as file:\n",
    "    pickle.dump(weights_eig, file)"
   ]
  },
  {
   "cell_type": "code",
   "execution_count": 27,
   "id": "030227b5",
   "metadata": {},
   "outputs": [],
   "source": [
    "c = np.genfromtxt ('cases.csv', delimiter=\",\")\n"
   ]
  },
  {
   "cell_type": "code",
   "execution_count": 29,
   "id": "83ba3c1f",
   "metadata": {},
   "outputs": [
    {
     "data": {
      "text/plain": [
       "(750, 26)"
      ]
     },
     "execution_count": 29,
     "metadata": {},
     "output_type": "execute_result"
    }
   ],
   "source": [
    "c.shape"
   ]
  },
  {
   "cell_type": "code",
   "execution_count": 35,
   "id": "3d0ec3b9",
   "metadata": {},
   "outputs": [],
   "source": [
    "weights_case = 1/(np.argsort(c[120])+1)"
   ]
  },
  {
   "cell_type": "code",
   "execution_count": 36,
   "id": "e1da5176",
   "metadata": {},
   "outputs": [
    {
     "data": {
      "text/plain": [
       "array([0.11111111, 0.33333333, 0.04347826, 0.05882353, 0.16666667,\n",
       "       0.03846154, 0.125     , 1.        , 0.07142857, 0.25      ,\n",
       "       0.07692308, 0.04      , 0.08333333, 0.05      , 0.05555556,\n",
       "       0.0625    , 0.09090909, 0.5       , 0.05263158, 0.04166667,\n",
       "       0.04545455, 0.06666667, 0.14285714, 0.2       , 0.1       ,\n",
       "       0.04761905])"
      ]
     },
     "execution_count": 36,
     "metadata": {},
     "output_type": "execute_result"
    }
   ],
   "source": [
    "weights_case"
   ]
  },
  {
   "cell_type": "code",
   "execution_count": 37,
   "id": "fee37988",
   "metadata": {},
   "outputs": [],
   "source": [
    "with open('weights_case.pkl', 'wb') as file:\n",
    "    pickle.dump(weights_case, file)"
   ]
  },
  {
   "cell_type": "code",
   "execution_count": 38,
   "id": "2ff6c051",
   "metadata": {},
   "outputs": [],
   "source": [
    "totalpop = np.array([420697,443569,344450,526877,899111,339399,419797,308499,140361,547523,354750,479505,287613,666399,278815,193899,166374,379199,356465,195082,407864,321720,201739,411617,469439,465691])\n"
   ]
  },
  {
   "cell_type": "code",
   "execution_count": 44,
   "id": "81d9cda5",
   "metadata": {},
   "outputs": [],
   "source": [
    "weights_prv = 1/(np.argsort(c[120]/totalpop)+1)"
   ]
  },
  {
   "cell_type": "code",
   "execution_count": 45,
   "id": "b2a385f2",
   "metadata": {},
   "outputs": [],
   "source": [
    "with open('weights_prv.pkl', 'wb') as file:\n",
    "    pickle.dump(weights_prv, file)"
   ]
  },
  {
   "cell_type": "code",
   "execution_count": null,
   "id": "ef6b3353",
   "metadata": {},
   "outputs": [],
   "source": []
  }
 ],
 "metadata": {
  "kernelspec": {
   "display_name": "Python 3 (ipykernel)",
   "language": "python",
   "name": "python3"
  },
  "language_info": {
   "codemirror_mode": {
    "name": "ipython",
    "version": 3
   },
   "file_extension": ".py",
   "mimetype": "text/x-python",
   "name": "python",
   "nbconvert_exporter": "python",
   "pygments_lexer": "ipython3",
   "version": "3.9.13"
  },
  "varInspector": {
   "cols": {
    "lenName": 16,
    "lenType": 16,
    "lenVar": 40
   },
   "kernels_config": {
    "python": {
     "delete_cmd_postfix": "",
     "delete_cmd_prefix": "del ",
     "library": "var_list.py",
     "varRefreshCmd": "print(var_dic_list())"
    },
    "r": {
     "delete_cmd_postfix": ") ",
     "delete_cmd_prefix": "rm(",
     "library": "var_list.r",
     "varRefreshCmd": "cat(var_dic_list()) "
    }
   },
   "types_to_exclude": [
    "module",
    "function",
    "builtin_function_or_method",
    "instance",
    "_Feature"
   ],
   "window_display": false
  }
 },
 "nbformat": 4,
 "nbformat_minor": 5
}
