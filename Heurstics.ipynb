{
 "cells": [
  {
   "cell_type": "code",
   "execution_count": 1,
   "id": "a45f9655",
   "metadata": {},
   "outputs": [
    {
     "name": "stdout",
     "output_type": "stream",
     "text": [
      "Intel MKL WARNING: Support of Intel(R) Streaming SIMD Extensions 4.2 (Intel(R) SSE4.2) enabled only processors has been deprecated. Intel oneAPI Math Kernel Library 2025.0 will require Intel(R) Advanced Vector Extensions (Intel(R) AVX) instructions.\n",
      "Intel MKL WARNING: Support of Intel(R) Streaming SIMD Extensions 4.2 (Intel(R) SSE4.2) enabled only processors has been deprecated. Intel oneAPI Math Kernel Library 2025.0 will require Intel(R) Advanced Vector Extensions (Intel(R) AVX) instructions.\n"
     ]
    }
   ],
   "source": [
    "import numpy as np\n",
    "import networkx as nx\n",
    "import pandas as pd\n",
    "import pickle"
   ]
  },
  {
   "cell_type": "code",
   "execution_count": 2,
   "id": "cddcbda6",
   "metadata": {},
   "outputs": [
    {
     "name": "stderr",
     "output_type": "stream",
     "text": [
      "/var/folders/b3/kkdtnh4d4gjgrk45d_yrf4100000gn/T/ipykernel_39216/460112638.py:7: RuntimeWarning: divide by zero encountered in divide\n",
      "  value = 1/value\n"
     ]
    }
   ],
   "source": [
    "od_flow = pd.read_csv('mean_df_20210224_20210424.csv')\n",
    "#value is the od matrix\n",
    "value = od_flow.values[0:-1,1:-1]\n",
    "value =np.array([np.array([float(i) for i in j ])for j in value])\n",
    "actualcommunter_scaler = 4753898/np.sum(value)\n",
    "value = value*actualcommunter_scaler\n",
    "value = 1/value"
   ]
  },
  {
   "cell_type": "code",
   "execution_count": 3,
   "id": "c0b41716",
   "metadata": {},
   "outputs": [],
   "source": [
    "G = nx.from_numpy_matrix(value)"
   ]
  },
  {
   "cell_type": "code",
   "execution_count": 4,
   "id": "e4f57435",
   "metadata": {},
   "outputs": [],
   "source": [
    "v = nx.betweenness_centrality(G, weight= 'weight')"
   ]
  },
  {
   "cell_type": "code",
   "execution_count": 5,
   "id": "90eb1202",
   "metadata": {},
   "outputs": [],
   "source": [
    "weights_bc = list(v.values())"
   ]
  },
  {
   "cell_type": "code",
   "execution_count": 6,
   "id": "025e3da0",
   "metadata": {},
   "outputs": [
    {
     "data": {
      "text/plain": [
       "[0.09000000000000001,\n",
       " 0.0,\n",
       " 0.0,\n",
       " 0.17333333333333334,\n",
       " 0.0,\n",
       " 0.04,\n",
       " 0.10666666666666667,\n",
       " 0.08,\n",
       " 0.0,\n",
       " 0.4066666666666667,\n",
       " 0.32333333333333336,\n",
       " 0.0,\n",
       " 0.0,\n",
       " 0.5866666666666667,\n",
       " 0.08,\n",
       " 0.0,\n",
       " 0.0,\n",
       " 0.0,\n",
       " 0.16666666666666669,\n",
       " 0.14666666666666667,\n",
       " 0.0,\n",
       " 0.0,\n",
       " 0.0,\n",
       " 0.0,\n",
       " 0.23,\n",
       " 0.0]"
      ]
     },
     "execution_count": 6,
     "metadata": {},
     "output_type": "execute_result"
    }
   ],
   "source": [
    "weights_bc"
   ]
  },
  {
   "cell_type": "code",
   "execution_count": 7,
   "id": "455aec1e",
   "metadata": {},
   "outputs": [],
   "source": [
    "with open('weights_bc.pkl', 'wb') as file:\n",
    "    pickle.dump(weights_bc, file)"
   ]
  },
  {
   "cell_type": "code",
   "execution_count": 8,
   "id": "cce74947",
   "metadata": {},
   "outputs": [],
   "source": [
    "od_flow = pd.read_csv('mean_df_20210224_20210424.csv')\n",
    "#value is the od matrix\n",
    "value = od_flow.values[0:-1,1:-1]\n",
    "value =np.array([np.array([float(i) for i in j ])for j in value])\n",
    "actualcommunter_scaler = 4753898/np.sum(value)\n",
    "value = value*actualcommunter_scaler"
   ]
  },
  {
   "cell_type": "code",
   "execution_count": 9,
   "id": "90739818",
   "metadata": {},
   "outputs": [],
   "source": [
    "from numpy import linalg as LA\n",
    "eigenvalues, eigenvectors = LA.eig(value)"
   ]
  },
  {
   "cell_type": "code",
   "execution_count": 10,
   "id": "c61746b8",
   "metadata": {},
   "outputs": [],
   "source": [
    "weights_eig = 1/(np.argsort(eigenvalues)+1)"
   ]
  },
  {
   "cell_type": "code",
   "execution_count": 11,
   "id": "8fdbc3c7",
   "metadata": {},
   "outputs": [],
   "source": [
    "with open('weights_eig.pkl', 'wb') as file:\n",
    "    pickle.dump(weights_eig, file)"
   ]
  },
  {
   "cell_type": "code",
   "execution_count": 12,
   "id": "030227b5",
   "metadata": {},
   "outputs": [],
   "source": [
    "c = np.genfromtxt ('cases.csv', delimiter=\",\")\n"
   ]
  },
  {
   "cell_type": "code",
   "execution_count": 24,
   "id": "83ba3c1f",
   "metadata": {},
   "outputs": [
    {
     "data": {
      "text/plain": [
       "array([3167.        , 5234.        , 2370.        , 6171.        ,\n",
       "       9494.        , 2141.        , 5041.        , 2439.        ,\n",
       "       1506.51507936, 5140.        , 7329.        , 5265.        ,\n",
       "       4148.        , 3325.        , 5024.        , 5415.        ,\n",
       "       2469.        , 5041.        , 3599.        , 4042.        ,\n",
       "       8205.        , 3786.        , 2327.        , 4279.        ,\n",
       "       5283.23474368, 2293.        ])"
      ]
     },
     "execution_count": 24,
     "metadata": {},
     "output_type": "execute_result"
    }
   ],
   "source": [
    "np.sum(c[:120],axis=0)"
   ]
  },
  {
   "cell_type": "code",
   "execution_count": 14,
   "id": "3d0ec3b9",
   "metadata": {},
   "outputs": [],
   "source": [
    "weights_case = np.sum(c[:120],axis=0)/np.sum(c[:120])"
   ]
  },
  {
   "cell_type": "code",
   "execution_count": 15,
   "id": "e1da5176",
   "metadata": {},
   "outputs": [
    {
     "data": {
      "text/plain": [
       "array([0.02765124, 0.04569832, 0.02069259, 0.05387932, 0.0828926 ,\n",
       "       0.01869318, 0.04401323, 0.02129503, 0.01315346, 0.0448776 ,\n",
       "       0.06398987, 0.04596898, 0.0362164 , 0.02903074, 0.0438648 ,\n",
       "       0.04727864, 0.02155696, 0.04401323, 0.03142305, 0.03529091,\n",
       "       0.07163827, 0.03305576, 0.02031716, 0.03736017, 0.04612819,\n",
       "       0.0200203 ])"
      ]
     },
     "execution_count": 15,
     "metadata": {},
     "output_type": "execute_result"
    }
   ],
   "source": [
    "weights_case"
   ]
  },
  {
   "cell_type": "code",
   "execution_count": 16,
   "id": "fee37988",
   "metadata": {},
   "outputs": [],
   "source": [
    "with open('weights_case.pkl', 'wb') as file:\n",
    "    pickle.dump(weights_case, file)"
   ]
  },
  {
   "cell_type": "code",
   "execution_count": 17,
   "id": "2ff6c051",
   "metadata": {},
   "outputs": [],
   "source": [
    "totalpop = np.array([420697,443569,344450,526877,899111,339399,419797,308499,140361,547523,354750,479505,287613,666399,278815,193899,166374,379199,356465,195082,407864,321720,201739,411617,469439,465691])\n"
   ]
  },
  {
   "cell_type": "code",
   "execution_count": 18,
   "id": "4859ce06",
   "metadata": {},
   "outputs": [],
   "source": [
    "case_rate = np.sum(c[:120],axis=0)/totalpop"
   ]
  },
  {
   "cell_type": "code",
   "execution_count": 23,
   "id": "593873c4",
   "metadata": {},
   "outputs": [
    {
     "data": {
      "text/plain": [
       "array([ 7.52798332, 11.79974254,  6.88053418, 11.71241106, 10.55931915,\n",
       "        6.30820951, 12.00818491,  7.90602239, 10.73314581,  9.38773348,\n",
       "       20.65961945, 10.9800732 , 14.42215755,  4.98950329, 18.01911662,\n",
       "       27.9269104 , 14.84005914, 13.29381143, 10.0963629 , 20.71949232,\n",
       "       20.11699978, 11.76799702, 11.53470573, 10.39558619, 11.25435838,\n",
       "        4.92386583])"
      ]
     },
     "execution_count": 23,
     "metadata": {},
     "output_type": "execute_result"
    }
   ],
   "source": [
    "case_rate*1000"
   ]
  },
  {
   "cell_type": "code",
   "execution_count": 25,
   "id": "81d9cda5",
   "metadata": {},
   "outputs": [],
   "source": [
    "weights_prv = case_rate*1000"
   ]
  },
  {
   "cell_type": "code",
   "execution_count": 26,
   "id": "b2a385f2",
   "metadata": {},
   "outputs": [],
   "source": [
    "with open('weights_prv.pkl', 'wb') as file:\n",
    "    pickle.dump(weights_prv, file)"
   ]
  },
  {
   "cell_type": "code",
   "execution_count": null,
   "id": "ef6b3353",
   "metadata": {},
   "outputs": [],
   "source": []
  }
 ],
 "metadata": {
  "kernelspec": {
   "display_name": "Python 3 (ipykernel)",
   "language": "python",
   "name": "python3"
  },
  "language_info": {
   "codemirror_mode": {
    "name": "ipython",
    "version": 3
   },
   "file_extension": ".py",
   "mimetype": "text/x-python",
   "name": "python",
   "nbconvert_exporter": "python",
   "pygments_lexer": "ipython3",
   "version": "3.9.13"
  },
  "varInspector": {
   "cols": {
    "lenName": 16,
    "lenType": 16,
    "lenVar": 40
   },
   "kernels_config": {
    "python": {
     "delete_cmd_postfix": "",
     "delete_cmd_prefix": "del ",
     "library": "var_list.py",
     "varRefreshCmd": "print(var_dic_list())"
    },
    "r": {
     "delete_cmd_postfix": ") ",
     "delete_cmd_prefix": "rm(",
     "library": "var_list.r",
     "varRefreshCmd": "cat(var_dic_list()) "
    }
   },
   "types_to_exclude": [
    "module",
    "function",
    "builtin_function_or_method",
    "instance",
    "_Feature"
   ],
   "window_display": false
  }
 },
 "nbformat": 4,
 "nbformat_minor": 5
}
